{
 "cells": [
  {
   "cell_type": "code",
   "execution_count": 315,
   "id": "d19341de-c0a1-4240-86fc-9b23be3cc9af",
   "metadata": {},
   "outputs": [],
   "source": [
    "import numpy as np\n",
    "import pandas as pd\n",
    "import matplotlib.pylab as plt\n",
    "import seaborn as sns\n",
    "\n",
    "# 한글 폰트 설정\n",
    "plt.rcParams['font.family'] = 'Malgun Gothic'\n",
    "plt.rcParams['axes.unicode_minus'] = False ## 마이너스 부호 깨짐 방지"
   ]
  },
  {
   "cell_type": "markdown",
   "id": "ae777727-e318-49d6-be20-b0f623570ff8",
   "metadata": {},
   "source": [
    "|컬럼 |내용|\n",
    "|---|---|\n",
    "sessionID | 세션 ID|\n",
    "userID | 사용자 ID|\n",
    "TARGET | 세션에서 발생한 총 조회수|\n",
    "browser | 사용된 브라우저|\n",
    "OS | 사용된 기기의 운영체제|\n",
    "device | 사용된 기기|\n",
    "new | 첫 방문 여부 (0: 첫 방문 아님, 1: 첫 방문)|\n",
    "quality | 세션의 질 (거래 성사를 기준으로 측정된 값, 범위: 1~100)|\n",
    "duration | 총 세션 시간 (단위: 초)|\n",
    "bounced | 이탈 여부 (0: 이탈하지 않음, 1: 이탈함)|\n",
    "transaction | 세션 내에서 발생의 거래의 수|\n",
    "transaction_revenue | 총 거래 수익|\n",
    "continent | 세션이 발생한 대륙|\n",
    "subcontinent | 세션이 발생한 하위 대륙|\n",
    "country | 세션이 발생한 국가|\n",
    "traffic_source | 트래픽이 발생한 소스|\n",
    "traffic_medium | 트래픽 소스의 매체|\n",
    "keyword | 트래픽 소스의 키워드, 일반적으로 traffic_medium이 organic, cpc인 경우에 설정|\n",
    "referral_path | traffic_medium이 referral인 경우 설정되는 경로|"
   ]
  },
  {
   "cell_type": "markdown",
   "id": "5f3c0411-196a-40d6-834d-57b15f05e681",
   "metadata": {},
   "source": [
    "## 데이터 로드 "
   ]
  },
  {
   "cell_type": "code",
   "execution_count": 316,
   "id": "da49730a-33a5-4cad-82fc-0801e0e7acd8",
   "metadata": {
    "scrolled": true
   },
   "outputs": [
    {
     "data": {
      "text/html": [
       "<div>\n",
       "<style scoped>\n",
       "    .dataframe tbody tr th:only-of-type {\n",
       "        vertical-align: middle;\n",
       "    }\n",
       "\n",
       "    .dataframe tbody tr th {\n",
       "        vertical-align: top;\n",
       "    }\n",
       "\n",
       "    .dataframe thead th {\n",
       "        text-align: right;\n",
       "    }\n",
       "</style>\n",
       "<table border=\"1\" class=\"dataframe\">\n",
       "  <thead>\n",
       "    <tr style=\"text-align: right;\">\n",
       "      <th></th>\n",
       "      <th>sessionID</th>\n",
       "      <th>userID</th>\n",
       "      <th>TARGET</th>\n",
       "      <th>browser</th>\n",
       "      <th>OS</th>\n",
       "      <th>device</th>\n",
       "      <th>new</th>\n",
       "      <th>quality</th>\n",
       "      <th>duration</th>\n",
       "      <th>bounced</th>\n",
       "      <th>transaction</th>\n",
       "      <th>transaction_revenue</th>\n",
       "      <th>continent</th>\n",
       "      <th>subcontinent</th>\n",
       "      <th>country</th>\n",
       "      <th>traffic_source</th>\n",
       "      <th>traffic_medium</th>\n",
       "      <th>keyword</th>\n",
       "      <th>referral_path</th>\n",
       "    </tr>\n",
       "  </thead>\n",
       "  <tbody>\n",
       "    <tr>\n",
       "      <th>0</th>\n",
       "      <td>SESSION_000000</td>\n",
       "      <td>USER_000000</td>\n",
       "      <td>17.0</td>\n",
       "      <td>Chrome</td>\n",
       "      <td>Macintosh</td>\n",
       "      <td>desktop</td>\n",
       "      <td>0</td>\n",
       "      <td>45.0</td>\n",
       "      <td>839.0</td>\n",
       "      <td>0</td>\n",
       "      <td>0.0</td>\n",
       "      <td>0.0</td>\n",
       "      <td>Americas</td>\n",
       "      <td>Northern America</td>\n",
       "      <td>United States</td>\n",
       "      <td>google</td>\n",
       "      <td>organic</td>\n",
       "      <td>Category8</td>\n",
       "      <td>NaN</td>\n",
       "    </tr>\n",
       "    <tr>\n",
       "      <th>1</th>\n",
       "      <td>SESSION_000001</td>\n",
       "      <td>USER_000001</td>\n",
       "      <td>3.0</td>\n",
       "      <td>Chrome</td>\n",
       "      <td>Windows</td>\n",
       "      <td>desktop</td>\n",
       "      <td>1</td>\n",
       "      <td>1.0</td>\n",
       "      <td>39.0</td>\n",
       "      <td>0</td>\n",
       "      <td>0.0</td>\n",
       "      <td>0.0</td>\n",
       "      <td>Europe</td>\n",
       "      <td>Western Europe</td>\n",
       "      <td>Germany</td>\n",
       "      <td>google</td>\n",
       "      <td>organic</td>\n",
       "      <td>Category8</td>\n",
       "      <td>NaN</td>\n",
       "    </tr>\n",
       "    <tr>\n",
       "      <th>2</th>\n",
       "      <td>SESSION_000002</td>\n",
       "      <td>USER_000002</td>\n",
       "      <td>1.0</td>\n",
       "      <td>Samsung Internet</td>\n",
       "      <td>Android</td>\n",
       "      <td>mobile</td>\n",
       "      <td>1</td>\n",
       "      <td>1.0</td>\n",
       "      <td>0.0</td>\n",
       "      <td>1</td>\n",
       "      <td>0.0</td>\n",
       "      <td>0.0</td>\n",
       "      <td>Asia</td>\n",
       "      <td>Southeast Asia</td>\n",
       "      <td>Malaysia</td>\n",
       "      <td>(direct)</td>\n",
       "      <td>(none)</td>\n",
       "      <td>NaN</td>\n",
       "      <td>NaN</td>\n",
       "    </tr>\n",
       "    <tr>\n",
       "      <th>3</th>\n",
       "      <td>SESSION_000003</td>\n",
       "      <td>USER_000003</td>\n",
       "      <td>1.0</td>\n",
       "      <td>Chrome</td>\n",
       "      <td>Macintosh</td>\n",
       "      <td>desktop</td>\n",
       "      <td>1</td>\n",
       "      <td>1.0</td>\n",
       "      <td>0.0</td>\n",
       "      <td>1</td>\n",
       "      <td>0.0</td>\n",
       "      <td>0.0</td>\n",
       "      <td>Americas</td>\n",
       "      <td>Northern America</td>\n",
       "      <td>United States</td>\n",
       "      <td>Partners</td>\n",
       "      <td>affiliate</td>\n",
       "      <td>NaN</td>\n",
       "      <td>NaN</td>\n",
       "    </tr>\n",
       "    <tr>\n",
       "      <th>4</th>\n",
       "      <td>SESSION_000004</td>\n",
       "      <td>USER_000004</td>\n",
       "      <td>1.0</td>\n",
       "      <td>Chrome</td>\n",
       "      <td>iOS</td>\n",
       "      <td>mobile</td>\n",
       "      <td>0</td>\n",
       "      <td>1.0</td>\n",
       "      <td>0.0</td>\n",
       "      <td>1</td>\n",
       "      <td>0.0</td>\n",
       "      <td>0.0</td>\n",
       "      <td>Americas</td>\n",
       "      <td>Northern America</td>\n",
       "      <td>United States</td>\n",
       "      <td>groups.google.com</td>\n",
       "      <td>referral</td>\n",
       "      <td>NaN</td>\n",
       "      <td>Category6_Path_0000</td>\n",
       "    </tr>\n",
       "  </tbody>\n",
       "</table>\n",
       "</div>"
      ],
      "text/plain": [
       "        sessionID       userID  TARGET           browser         OS   device  \\\n",
       "0  SESSION_000000  USER_000000    17.0            Chrome  Macintosh  desktop   \n",
       "1  SESSION_000001  USER_000001     3.0            Chrome    Windows  desktop   \n",
       "2  SESSION_000002  USER_000002     1.0  Samsung Internet    Android   mobile   \n",
       "3  SESSION_000003  USER_000003     1.0            Chrome  Macintosh  desktop   \n",
       "4  SESSION_000004  USER_000004     1.0            Chrome        iOS   mobile   \n",
       "\n",
       "   new  quality  duration  bounced  transaction  transaction_revenue  \\\n",
       "0    0     45.0     839.0        0          0.0                  0.0   \n",
       "1    1      1.0      39.0        0          0.0                  0.0   \n",
       "2    1      1.0       0.0        1          0.0                  0.0   \n",
       "3    1      1.0       0.0        1          0.0                  0.0   \n",
       "4    0      1.0       0.0        1          0.0                  0.0   \n",
       "\n",
       "  continent      subcontinent        country     traffic_source  \\\n",
       "0  Americas  Northern America  United States             google   \n",
       "1    Europe    Western Europe        Germany             google   \n",
       "2      Asia    Southeast Asia       Malaysia           (direct)   \n",
       "3  Americas  Northern America  United States           Partners   \n",
       "4  Americas  Northern America  United States  groups.google.com   \n",
       "\n",
       "  traffic_medium    keyword        referral_path  \n",
       "0        organic  Category8                  NaN  \n",
       "1        organic  Category8                  NaN  \n",
       "2         (none)        NaN                  NaN  \n",
       "3      affiliate        NaN                  NaN  \n",
       "4       referral        NaN  Category6_Path_0000  "
      ]
     },
     "execution_count": 316,
     "metadata": {},
     "output_type": "execute_result"
    }
   ],
   "source": [
    "data = pd.read_csv(\"D:/3차프로젝트/Weblog_Data/train.csv\")\n",
    "test_data = pd.read_csv(\"D:/3차프로젝트/Weblog_Data/test.csv\")\n",
    "\n",
    "data.head()"
   ]
  },
  {
   "cell_type": "markdown",
   "id": "5f00da83-b016-4dde-9510-7007c39fc0fc",
   "metadata": {},
   "source": [
    "## 데이터 EDA\n",
    "keyword, referral_path 에서 결측치가 존재하는 것을 확인"
   ]
  },
  {
   "cell_type": "code",
   "execution_count": 317,
   "id": "617ba9f7-b77a-4a5f-bfaf-40835d553193",
   "metadata": {},
   "outputs": [
    {
     "name": "stdout",
     "output_type": "stream",
     "text": [
      "<class 'pandas.core.frame.DataFrame'>\n",
      "RangeIndex: 252289 entries, 0 to 252288\n",
      "Data columns (total 19 columns):\n",
      " #   Column               Non-Null Count   Dtype  \n",
      "---  ------               --------------   -----  \n",
      " 0   sessionID            252289 non-null  object \n",
      " 1   userID               252289 non-null  object \n",
      " 2   TARGET               252289 non-null  float64\n",
      " 3   browser              252289 non-null  object \n",
      " 4   OS                   252289 non-null  object \n",
      " 5   device               252289 non-null  object \n",
      " 6   new                  252289 non-null  int64  \n",
      " 7   quality              252289 non-null  float64\n",
      " 8   duration             252289 non-null  float64\n",
      " 9   bounced              252289 non-null  int64  \n",
      " 10  transaction          252289 non-null  float64\n",
      " 11  transaction_revenue  252289 non-null  float64\n",
      " 12  continent            252289 non-null  object \n",
      " 13  subcontinent         252289 non-null  object \n",
      " 14  country              252289 non-null  object \n",
      " 15  traffic_source       252289 non-null  object \n",
      " 16  traffic_medium       252289 non-null  object \n",
      " 17  keyword              114614 non-null  object \n",
      " 18  referral_path        91182 non-null   object \n",
      "dtypes: float64(5), int64(2), object(12)\n",
      "memory usage: 36.6+ MB\n"
     ]
    }
   ],
   "source": [
    "data.info()"
   ]
  },
  {
   "cell_type": "code",
   "execution_count": 318,
   "id": "147d63dc-1a37-4af2-ab5b-29af4c110ae9",
   "metadata": {},
   "outputs": [
    {
     "data": {
      "text/html": [
       "<div>\n",
       "<style scoped>\n",
       "    .dataframe tbody tr th:only-of-type {\n",
       "        vertical-align: middle;\n",
       "    }\n",
       "\n",
       "    .dataframe tbody tr th {\n",
       "        vertical-align: top;\n",
       "    }\n",
       "\n",
       "    .dataframe thead th {\n",
       "        text-align: right;\n",
       "    }\n",
       "</style>\n",
       "<table border=\"1\" class=\"dataframe\">\n",
       "  <thead>\n",
       "    <tr style=\"text-align: right;\">\n",
       "      <th></th>\n",
       "      <th>TARGET</th>\n",
       "      <th>new</th>\n",
       "      <th>quality</th>\n",
       "      <th>duration</th>\n",
       "      <th>bounced</th>\n",
       "      <th>transaction</th>\n",
       "      <th>transaction_revenue</th>\n",
       "    </tr>\n",
       "  </thead>\n",
       "  <tbody>\n",
       "    <tr>\n",
       "      <th>count</th>\n",
       "      <td>252289.000000</td>\n",
       "      <td>252289.000000</td>\n",
       "      <td>252289.000000</td>\n",
       "      <td>252289.000000</td>\n",
       "      <td>252289.000000</td>\n",
       "      <td>252289.000000</td>\n",
       "      <td>2.522890e+05</td>\n",
       "    </tr>\n",
       "    <tr>\n",
       "      <th>mean</th>\n",
       "      <td>3.592626</td>\n",
       "      <td>0.751955</td>\n",
       "      <td>3.816805</td>\n",
       "      <td>113.104253</td>\n",
       "      <td>0.493672</td>\n",
       "      <td>0.009033</td>\n",
       "      <td>9.061248e+05</td>\n",
       "    </tr>\n",
       "    <tr>\n",
       "      <th>std</th>\n",
       "      <td>5.509465</td>\n",
       "      <td>0.431879</td>\n",
       "      <td>11.091028</td>\n",
       "      <td>330.876019</td>\n",
       "      <td>0.499961</td>\n",
       "      <td>0.100938</td>\n",
       "      <td>2.127689e+07</td>\n",
       "    </tr>\n",
       "    <tr>\n",
       "      <th>min</th>\n",
       "      <td>1.000000</td>\n",
       "      <td>0.000000</td>\n",
       "      <td>1.000000</td>\n",
       "      <td>0.000000</td>\n",
       "      <td>0.000000</td>\n",
       "      <td>0.000000</td>\n",
       "      <td>0.000000e+00</td>\n",
       "    </tr>\n",
       "    <tr>\n",
       "      <th>25%</th>\n",
       "      <td>1.000000</td>\n",
       "      <td>1.000000</td>\n",
       "      <td>1.000000</td>\n",
       "      <td>0.000000</td>\n",
       "      <td>0.000000</td>\n",
       "      <td>0.000000</td>\n",
       "      <td>0.000000e+00</td>\n",
       "    </tr>\n",
       "    <tr>\n",
       "      <th>50%</th>\n",
       "      <td>2.000000</td>\n",
       "      <td>1.000000</td>\n",
       "      <td>1.000000</td>\n",
       "      <td>3.000000</td>\n",
       "      <td>0.000000</td>\n",
       "      <td>0.000000</td>\n",
       "      <td>0.000000e+00</td>\n",
       "    </tr>\n",
       "    <tr>\n",
       "      <th>75%</th>\n",
       "      <td>4.000000</td>\n",
       "      <td>1.000000</td>\n",
       "      <td>1.000000</td>\n",
       "      <td>71.000000</td>\n",
       "      <td>1.000000</td>\n",
       "      <td>0.000000</td>\n",
       "      <td>0.000000e+00</td>\n",
       "    </tr>\n",
       "    <tr>\n",
       "      <th>max</th>\n",
       "      <td>386.000000</td>\n",
       "      <td>1.000000</td>\n",
       "      <td>98.000000</td>\n",
       "      <td>11186.000000</td>\n",
       "      <td>1.000000</td>\n",
       "      <td>12.000000</td>\n",
       "      <td>3.325712e+09</td>\n",
       "    </tr>\n",
       "  </tbody>\n",
       "</table>\n",
       "</div>"
      ],
      "text/plain": [
       "              TARGET            new        quality       duration  \\\n",
       "count  252289.000000  252289.000000  252289.000000  252289.000000   \n",
       "mean        3.592626       0.751955       3.816805     113.104253   \n",
       "std         5.509465       0.431879      11.091028     330.876019   \n",
       "min         1.000000       0.000000       1.000000       0.000000   \n",
       "25%         1.000000       1.000000       1.000000       0.000000   \n",
       "50%         2.000000       1.000000       1.000000       3.000000   \n",
       "75%         4.000000       1.000000       1.000000      71.000000   \n",
       "max       386.000000       1.000000      98.000000   11186.000000   \n",
       "\n",
       "             bounced    transaction  transaction_revenue  \n",
       "count  252289.000000  252289.000000         2.522890e+05  \n",
       "mean        0.493672       0.009033         9.061248e+05  \n",
       "std         0.499961       0.100938         2.127689e+07  \n",
       "min         0.000000       0.000000         0.000000e+00  \n",
       "25%         0.000000       0.000000         0.000000e+00  \n",
       "50%         0.000000       0.000000         0.000000e+00  \n",
       "75%         1.000000       0.000000         0.000000e+00  \n",
       "max         1.000000      12.000000         3.325712e+09  "
      ]
     },
     "execution_count": 318,
     "metadata": {},
     "output_type": "execute_result"
    }
   ],
   "source": [
    "# duration,transaction_revenue 등 값의 범위가 매우 크기 때문에 데이터 스케일링을 진행할 필요성이 있어보인다. \n",
    "data.describe()"
   ]
  },
  {
   "cell_type": "code",
   "execution_count": 319,
   "id": "746956a7-8df9-4181-a776-975f872a445b",
   "metadata": {},
   "outputs": [
    {
     "data": {
      "text/html": [
       "<div>\n",
       "<style scoped>\n",
       "    .dataframe tbody tr th:only-of-type {\n",
       "        vertical-align: middle;\n",
       "    }\n",
       "\n",
       "    .dataframe tbody tr th {\n",
       "        vertical-align: top;\n",
       "    }\n",
       "\n",
       "    .dataframe thead th {\n",
       "        text-align: right;\n",
       "    }\n",
       "</style>\n",
       "<table border=\"1\" class=\"dataframe\">\n",
       "  <thead>\n",
       "    <tr style=\"text-align: right;\">\n",
       "      <th></th>\n",
       "      <th>sessionID</th>\n",
       "      <th>userID</th>\n",
       "      <th>browser</th>\n",
       "      <th>OS</th>\n",
       "      <th>device</th>\n",
       "      <th>continent</th>\n",
       "      <th>subcontinent</th>\n",
       "      <th>country</th>\n",
       "      <th>traffic_source</th>\n",
       "      <th>traffic_medium</th>\n",
       "      <th>keyword</th>\n",
       "      <th>referral_path</th>\n",
       "    </tr>\n",
       "  </thead>\n",
       "  <tbody>\n",
       "    <tr>\n",
       "      <th>count</th>\n",
       "      <td>252289</td>\n",
       "      <td>252289</td>\n",
       "      <td>252289</td>\n",
       "      <td>252289</td>\n",
       "      <td>252289</td>\n",
       "      <td>252289</td>\n",
       "      <td>252289</td>\n",
       "      <td>252289</td>\n",
       "      <td>252289</td>\n",
       "      <td>252289</td>\n",
       "      <td>114614</td>\n",
       "      <td>91182</td>\n",
       "    </tr>\n",
       "    <tr>\n",
       "      <th>unique</th>\n",
       "      <td>252289</td>\n",
       "      <td>206024</td>\n",
       "      <td>70</td>\n",
       "      <td>21</td>\n",
       "      <td>3</td>\n",
       "      <td>6</td>\n",
       "      <td>23</td>\n",
       "      <td>205</td>\n",
       "      <td>168</td>\n",
       "      <td>7</td>\n",
       "      <td>623</td>\n",
       "      <td>1578</td>\n",
       "    </tr>\n",
       "    <tr>\n",
       "      <th>top</th>\n",
       "      <td>SESSION_000000</td>\n",
       "      <td>USER_002675</td>\n",
       "      <td>Chrome</td>\n",
       "      <td>Windows</td>\n",
       "      <td>desktop</td>\n",
       "      <td>Americas</td>\n",
       "      <td>Northern America</td>\n",
       "      <td>United States</td>\n",
       "      <td>google</td>\n",
       "      <td>organic</td>\n",
       "      <td>Category8</td>\n",
       "      <td>Category1</td>\n",
       "    </tr>\n",
       "    <tr>\n",
       "      <th>freq</th>\n",
       "      <td>1</td>\n",
       "      <td>78</td>\n",
       "      <td>174395</td>\n",
       "      <td>88119</td>\n",
       "      <td>167133</td>\n",
       "      <td>126506</td>\n",
       "      <td>111945</td>\n",
       "      <td>104201</td>\n",
       "      <td>116007</td>\n",
       "      <td>107370</td>\n",
       "      <td>103584</td>\n",
       "      <td>18687</td>\n",
       "    </tr>\n",
       "  </tbody>\n",
       "</table>\n",
       "</div>"
      ],
      "text/plain": [
       "             sessionID       userID browser       OS   device continent  \\\n",
       "count           252289       252289  252289   252289   252289    252289   \n",
       "unique          252289       206024      70       21        3         6   \n",
       "top     SESSION_000000  USER_002675  Chrome  Windows  desktop  Americas   \n",
       "freq                 1           78  174395    88119   167133    126506   \n",
       "\n",
       "            subcontinent        country traffic_source traffic_medium  \\\n",
       "count             252289         252289         252289         252289   \n",
       "unique                23            205            168              7   \n",
       "top     Northern America  United States         google        organic   \n",
       "freq              111945         104201         116007         107370   \n",
       "\n",
       "          keyword referral_path  \n",
       "count      114614         91182  \n",
       "unique        623          1578  \n",
       "top     Category8     Category1  \n",
       "freq       103584         18687  "
      ]
     },
     "execution_count": 319,
     "metadata": {},
     "output_type": "execute_result"
    }
   ],
   "source": [
    "## userID에 중복이 존재한다. (나머지는 중복이 있지만, 카테고리.)\n",
    "data.describe(include='object')"
   ]
  },
  {
   "cell_type": "markdown",
   "id": "4afe833a-36ee-4ce9-bcd0-6d0f0c266dae",
   "metadata": {},
   "source": [
    "### 갯수가 확인해볼 수 있는 범주형 변수 데이터 확인"
   ]
  },
  {
   "cell_type": "code",
   "execution_count": 320,
   "id": "9995cc52-1dc6-414c-a1a1-f3cb007b6003",
   "metadata": {},
   "outputs": [
    {
     "data": {
      "text/plain": [
       "array(['Chrome', 'Samsung Internet', 'Firefox', 'Opera',\n",
       "       'Safari (in-app)', 'Edge', 'Safari', 'Android Webview',\n",
       "       'UC Browser', 'Internet Explorer', 'Opera Mini', 'BlackBerry',\n",
       "       'Android Browser', 'Amazon Silk', 'Coc Coc', 'YaBrowser',\n",
       "       'Nintendo Browser', 'Nokia Browser', 'MRCHROME', 'Puffin',\n",
       "       'Mozilla Compatible Agent', 'Maxthon', '+Simple Browser',\n",
       "       'Apple-iPhone7C2', 'Playstation Vita Browser',\n",
       "       'osee2unifiedRelease', 'SAMSUNG-SM-B355E Opera', 'DESKTOP', 'Iron',\n",
       "       'Browser', 'rpfanjzoxyemsgbtichqkudwlv',\n",
       "       'cajrnbtvqwfkolzyxushpdgime', 'wvsmagudcqeytijorlhxnfzkbp',\n",
       "       'efkaxnbyohqtspzlvcwrjmigdu', 'bsfnwveckhgpdoyjxmizruqtla',\n",
       "       'Mozilla', 'Konqueror', 'Netscape', 'Amazon.com', 'SeaMonkey',\n",
       "       ';__CT_JOB_ID__:76fd1acb-e365-43c0-b967-908bcf5d5b59;',\n",
       "       'eosutpkiahjzvdgcwxlmyfqbrn', 'cnwmpegudakrqzljtvfxohbysi',\n",
       "       'fspmihbxzowgnuctrqykjlvade', 'YE',\n",
       "       ';__CT_JOB_ID__:7e575295-571e-4e82-9254-7f2c8bbb9183;',\n",
       "       'dkagwlhmfqxercuozpnbvtsiyj', 'kqebrzuwmiycxdvtoljnhsfpga',\n",
       "       'ohukwejvqmdtibfrzpycgxanls', 'Seznam',\n",
       "       ';__CT_JOB_ID__:fe02e46f-b6ae-41f1-8563-3b40bbb623a9;',\n",
       "       ';__CT_JOB_ID__:d14534ff-e2fc-4692-92aa-e34508f1c418;',\n",
       "       ';__CT_JOB_ID__:a4f837b8-8d78-4c42-ba9a-d870cf1a4a7e;',\n",
       "       ';__CT_JOB_ID__:dd6177aa-1baa-4007-9b38-b7cab4f7611c;',\n",
       "       ';__CT_JOB_ID__:58e2ecba-7666-4a10-b498-8216457ce472;',\n",
       "       ';__CT_JOB_ID__:4333777f-bb0c-4a18-935e-df5658dbce2d;',\n",
       "       ';__CT_JOB_ID__:2547db0b-ec43-452a-a0d4-ff42b7dc7907;',\n",
       "       ';__CT_JOB_ID__:2e0eca60-83ab-482d-bb81-343d113254fb;',\n",
       "       ';__CT_JOB_ID__:a7ed0808-e70c-4b19-b1a3-1018bbb7dc7f;',\n",
       "       ';__CT_JOB_ID__:85da5736-a78e-45a9-837e-f5a53e5cd725;',\n",
       "       ';__CT_JOB_ID__:a24a8978-e5e8-4dc9-af66-c4ed89ea25d7;',\n",
       "       ';__CT_JOB_ID__:a80e8e16-6e98-455b-885a-a4dd40f3d344;',\n",
       "       ';__CT_JOB_ID__:89e59554-ad41-4e94-957b-f12bd012530c;',\n",
       "       'Lunascape',\n",
       "       ';__CT_JOB_ID__:0b39e7ca-1431-42e3-ba1f-9d8951a65840;',\n",
       "       ';__CT_JOB_ID__:6e9dcf2f-f58f-4938-91e3-77e00868177b;',\n",
       "       'starmaker',\n",
       "       ';__CT_JOB_ID__:97909e28-4228-4b55-8ad5-cc791f2b583c;',\n",
       "       ';__CT_JOB_ID__:0a075729-93a5-43d0-9638-4cbd41d5f5a5;',\n",
       "       'NokiaC7-00'], dtype=object)"
      ]
     },
     "execution_count": 320,
     "metadata": {},
     "output_type": "execute_result"
    }
   ],
   "source": [
    "## browser \n",
    "'''\n",
    "브라우저로 해석하기 어려운 데이터가 존재 따라서 전처리를 하면 좋을 듯 - 비식별 데이터가 있다.\n",
    "1. 유명한 브라우저와 아닌 것으로 이진 분류로 변환\n",
    "2. 제대로 확인 가능한 브라우저랑 아닌 것을 '미상' 등으로 축소를 하고 변환\n",
    "'''\n",
    "data.browser.unique()"
   ]
  },
  {
   "cell_type": "code",
   "execution_count": 321,
   "id": "5f36ae9d-0ff3-4196-a0df-9b4e142b4d1e",
   "metadata": {},
   "outputs": [
    {
     "data": {
      "text/plain": [
       "array(['Macintosh', 'Windows', 'Android', 'iOS', 'Linux', 'Tizen',\n",
       "       'Chrome OS', 'BlackBerry', '(not set)', 'Xbox', 'Samsung',\n",
       "       'Windows Phone', 'OS/2', 'Nintendo 3DS', 'Playstation Vita',\n",
       "       'FreeBSD', 'SunOS', 'Nintendo WiiU', 'Firefox OS', 'SymbianOS',\n",
       "       'Nokia'], dtype=object)"
      ]
     },
     "execution_count": 321,
     "metadata": {},
     "output_type": "execute_result"
    }
   ],
   "source": [
    "## OS\n",
    "'''\n",
    "(not set) 와 Xbox (게임기 아닌가? 이런 데이터가 중요하거나 데이터가 많을까?)\n",
    "밑에서 확인해본 결과 크게 중요하지 않고 데이터의 크기도 적다 따라서 그런 데이터를 모아서 축소하는게 좋을 것 같다. \n",
    "'''\n",
    "data.OS.unique()\n",
    "\n",
    "# ## 1로 조회수가 매우 작은 것을 알 수 있다. \n",
    "# data[data['OS'] == '(not set)']['TARGET'].value_counts()\n",
    "# ### 크기도 작고 별로 중요하지 않다고 판단됨\n",
    "# data[data['OS'] == 'Xbox']['TARGET'].value_counts()\n",
    "# data[data['OS'] == 'Playstation Vita']['TARGET'].value_counts()"
   ]
  },
  {
   "cell_type": "code",
   "execution_count": 173,
   "id": "f00f032c-cac5-452f-8c47-7b2579fdf6d1",
   "metadata": {},
   "outputs": [
    {
     "data": {
      "text/plain": [
       "array(['desktop', 'mobile', 'tablet'], dtype=object)"
      ]
     },
     "execution_count": 173,
     "metadata": {},
     "output_type": "execute_result"
    }
   ],
   "source": [
    "## device\n",
    "'''\n",
    "3개 one-hot을 사용해도 괜찮을 것 같다. \n",
    "'''\n",
    "data.device.unique()\n",
    "\n",
    "# data[data['device'] == 'tablet']['TARGET'].value_counts()\n",
    "# data[data['device'] == 'mobile']['TARGET'].value_counts()\n",
    "# data[data['device'] == 'desktop']['TARGET'].value_counts()"
   ]
  },
  {
   "cell_type": "code",
   "execution_count": 174,
   "id": "ad5c5b44-2b2f-435c-9e66-74706ed43a82",
   "metadata": {},
   "outputs": [
    {
     "data": {
      "text/plain": [
       "array(['Americas', 'Europe', 'Asia', 'Africa', 'Oceania', '(not set)'],\n",
       "      dtype=object)"
      ]
     },
     "execution_count": 174,
     "metadata": {},
     "output_type": "execute_result"
    }
   ],
   "source": [
    "## continent\n",
    "'''\n",
    "6개 one-hot을 사용해도 괜찮을 것 같다. \n",
    "'''\n",
    "data.continent.unique()"
   ]
  },
  {
   "cell_type": "code",
   "execution_count": 175,
   "id": "21390333-cc78-4a77-8082-4bf12b770f34",
   "metadata": {},
   "outputs": [
    {
     "data": {
      "text/plain": [
       "array(['Northern America', 'Western Europe', 'Southeast Asia',\n",
       "       'Southern Europe', 'South America', 'Central America',\n",
       "       'Northern Europe', 'Eastern Europe', 'Eastern Asia',\n",
       "       'Southern Asia', 'Western Asia', 'Northern Africa', 'Australasia',\n",
       "       'Southern Africa', 'Eastern Africa', 'Western Africa', 'Caribbean',\n",
       "       '(not set)', 'Polynesia', 'Middle Africa', 'Micronesian Region',\n",
       "       'Central Asia', 'Melanesia'], dtype=object)"
      ]
     },
     "execution_count": 175,
     "metadata": {},
     "output_type": "execute_result"
    }
   ],
   "source": [
    "## subcontinent\n",
    "'''\n",
    "데이터가 너무 많아서 어떻게 할 지 고민\n",
    "'''\n",
    "data.subcontinent.unique()"
   ]
  },
  {
   "cell_type": "code",
   "execution_count": 176,
   "id": "90ec5729-67a1-45d0-90ab-ac7427ddc4ef",
   "metadata": {},
   "outputs": [
    {
     "data": {
      "text/plain": [
       "array([ 0.        ,  0.69314718, 16.32638364])"
      ]
     },
     "execution_count": 176,
     "metadata": {},
     "output_type": "execute_result"
    }
   ],
   "source": [
    "aa = np.array([0, 1, 12315677])\n",
    "np.log1p(aa)"
   ]
  },
  {
   "cell_type": "code",
   "execution_count": 177,
   "id": "8431dc2d-54e1-4a05-997d-f71f50e3dee4",
   "metadata": {
    "scrolled": true
   },
   "outputs": [
    {
     "data": {
      "text/plain": [
       "array(['United States', 'Germany', 'Malaysia', 'Greece', 'Brazil',\n",
       "       'Italy', 'Mexico', 'Laos', 'United Kingdom', 'Philippines',\n",
       "       'Bulgaria', 'Russia', 'Poland', 'China', 'Romania', 'Belgium',\n",
       "       'India', 'United Arab Emirates', 'Portugal', 'Canada', 'Algeria',\n",
       "       'Egypt', 'Pakistan', 'Japan', 'Australia', 'South Africa',\n",
       "       'Turkey', 'Austria', 'New Zealand', 'Singapore', 'Taiwan',\n",
       "       'France', 'Saudi Arabia', 'Colombia', 'Ecuador', 'Thailand',\n",
       "       'Vietnam', 'Sweden', 'Sri Lanka', 'South Korea', 'Kuwait', 'Kenya',\n",
       "       'Bolivia', 'Spain', 'Hong Kong', 'Bangladesh', 'Serbia',\n",
       "       'Netherlands', 'El Salvador', 'Czechia', 'Peru', 'Ukraine',\n",
       "       'Réunion', 'Israel', 'Nepal', 'Ireland', 'Indonesia', 'Argentina',\n",
       "       'Finland', 'Hungary', 'Switzerland', 'Qatar', 'Georgia', 'Nigeria',\n",
       "       'Oman', 'Benin', 'Belarus', 'Côte d’Ivoire', 'Dominican Republic',\n",
       "       'Denmark', 'Morocco', 'Macau', 'Slovakia', 'Guatemala', 'Norway',\n",
       "       'Armenia', 'Sudan', 'Iraq', 'Albania', 'Cyprus', 'Uruguay',\n",
       "       'Estonia', 'Suriname', 'Costa Rica', 'Cambodia', '(not set)',\n",
       "       'Puerto Rico', 'Lithuania', 'Croatia', 'Bosnia & Herzegovina',\n",
       "       'Burundi', 'Yemen', 'Mali', 'Tunisia', 'Martinique', 'Jordan',\n",
       "       'Chile', 'Ethiopia', 'Luxembourg', 'French Polynesia',\n",
       "       'Trinidad & Tobago', 'Cameroon', 'Iceland',\n",
       "       'Northern Mariana Islands', 'Azerbaijan', 'Jamaica', 'Kazakhstan',\n",
       "       'Myanmar (Burma)', 'Venezuela', 'Mozambique', 'Tanzania', 'Libya',\n",
       "       'Palestine', 'Guinea', 'Macedonia (FYROM)', 'Kyrgyzstan',\n",
       "       'Congo - Kinshasa', 'Lebanon', 'Malta', 'Uganda', 'Bahrain',\n",
       "       'Panama', 'Slovenia', 'Latvia', 'Nicaragua', 'Montenegro', 'Gabon',\n",
       "       'Honduras', 'Afghanistan', 'Ghana', 'St. Kitts & Nevis',\n",
       "       'Barbados', 'Rwanda', 'Somalia', 'Fiji', 'Senegal', 'Niger',\n",
       "       'Andorra', 'Zambia', 'Namibia', 'Kosovo', 'Chad', 'Angola',\n",
       "       'Botswana', 'Haiti', 'Moldova', 'Uzbekistan', 'Bahamas',\n",
       "       'Faroe Islands', 'Curaçao', 'Brunei', 'Mauritius', 'Paraguay',\n",
       "       'Burkina Faso', 'St. Vincent & Grenadines',\n",
       "       'Caribbean Netherlands', 'Turkmenistan', 'Guernsey', 'Belize',\n",
       "       'Maldives', 'San Marino', 'Guadeloupe', 'Madagascar', 'Iran',\n",
       "       'Aruba', 'Cayman Islands', 'South Sudan', 'Bermuda', 'Djibouti',\n",
       "       'Congo - Brazzaville', 'Mongolia', 'Sierra Leone', 'Zimbabwe',\n",
       "       'Jersey', 'Guam', 'Monaco', 'Grenada', 'Liberia',\n",
       "       'British Virgin Islands', 'New Caledonia', 'Liechtenstein',\n",
       "       'Guyana', 'Antigua & Barbuda', 'French Guiana', 'Togo', 'Bhutan',\n",
       "       'Syria', 'Swaziland', 'Lesotho', 'Greenland', 'Mauritania',\n",
       "       'Tajikistan', 'Isle of Man', 'St. Lucia', 'St. Martin',\n",
       "       'Cape Verde', 'Guinea-Bissau', 'Malawi',\n",
       "       'Central African Republic', 'Micronesia', 'U.S. Virgin Islands',\n",
       "       'Mayotte', 'Papua New Guinea', 'Gibraltar', 'Vanuatu'],\n",
       "      dtype=object)"
      ]
     },
     "execution_count": 177,
     "metadata": {},
     "output_type": "execute_result"
    }
   ],
   "source": [
    "## country\n",
    "'''\n",
    "데이터가 너무 많아서 어떻게 할 지 고민\n",
    "'''\n",
    "data.country.unique()"
   ]
  },
  {
   "cell_type": "code",
   "execution_count": 178,
   "id": "ad83d6dd-d377-4f38-90ba-a1986d35ccd9",
   "metadata": {},
   "outputs": [
    {
     "data": {
      "text/plain": [
       "array(['google', '(direct)', 'Partners', 'groups.google.com',\n",
       "       'youtube.com', 'google.com', 'bing', 'google.co.jp',\n",
       "       'analytics.google.com', 'baidu', 'quora.com',\n",
       "       'googleads.g.doubleclick.net', 'pinterest.com', 'mail.google.com',\n",
       "       'dealspotr.com', 'qiita.com', 'l.facebook.com', 'reddit.com',\n",
       "       'sites.google.com', 'blog.golang.org', 'support.google.com',\n",
       "       'yahoo', 'dfa', 't.co', 'lunametrics.com', 'docs.google.com',\n",
       "       'adwords.google.com', 's0.2mdn.net', 'm.baidu.com',\n",
       "       'm.facebook.com', 'int.search.tb.ask.com', 'google.com.br',\n",
       "       'google.es', 'arstechnica.com', 'msn.com', 'tw.search.yahoo.com',\n",
       "       'facebook.com', 'google.de', 'hangouts.google.com',\n",
       "       'duckduckgo.com', 'r.search.aol.com', 'my.yahoo.com',\n",
       "       'google.co.za', 'au.search.yahoo.com', 'in.search.yahoo.com',\n",
       "       'outlook.live.com', 'productforums.google.com', 'ask',\n",
       "       'google.co.id', 'google.co.uk', 'myactivity.google.com',\n",
       "       'google.com.ua', 'google.by', 'sashihara.jp', 'm.youtube.com',\n",
       "       'github.com', 'optimize.google.com', 'connect.googleforwork.com',\n",
       "       'ph.search.yahoo.com', 'es.search.yahoo.com', 'google.ru',\n",
       "       'keep.google.com', 'youtube.thinkwithgoogle.com',\n",
       "       'myasucourses.asu.edu', 'google.co.th', 'gophergala.com',\n",
       "       'learn.pct.edu', 'phandroid.com', 'online-metrics.com',\n",
       "       'plus.url.google.com', 'ca.search.yahoo.com', 'evernote.com',\n",
       "       'web.telegram.org', 'search.1and1.com', 'google.nl',\n",
       "       'uk.search.yahoo.com', 'getpocket.com', 'se.search.yahoo.com',\n",
       "       'us.search.yahoo.com', 'lm.facebook.com',\n",
       "       'malaysia.search.yahoo.com', 'bluequill.franklin.edu', 'google.lv',\n",
       "       'feedly.com', 'search.snapdo.com', 'online.fullsail.edu',\n",
       "       'away.vk.com', 'l.messenger.com', 'google.co.nz', 'google.fr',\n",
       "       'so.com', 'google.com.tr', 'kik.com', 'kidrex.org',\n",
       "       'search.tb.ask.com', 'images.google.com', 'mail.yahoo.com',\n",
       "       'google.com.au', 'search.xfinity.com', 'google.com.bd',\n",
       "       'google.be', 'businessinsider.com', 'aulagrado.esic.edu',\n",
       "       'plus.google.com', 'mail1.swic.edu', 'startpage.com',\n",
       "       'learn.colorado.edu', 'web.whatsapp.com',\n",
       "       'lisham-web.blogspot.com', 'google.com.mx', 'nl.search.yahoo.com',\n",
       "       'nl.pinterest.com', 'google.co.in', 'search.mysearch.com',\n",
       "       'de.wow.com', 'google.com.ng', 'google.it', 'google.com.sa',\n",
       "       'google.iq', 'google.com.eg', 'google.co.il', 'google.pl',\n",
       "       'it.search.yahoo.com', 'it.pinterest.com', 'images.google.com.br',\n",
       "       'amp.reddit.com', 'vk.com', 'google.pt', 'cz.pinterest.com',\n",
       "       'google.jo', 'google.ie', 'qc.search.yahoo.com',\n",
       "       'earth.google.com', 'br.search.yahoo.com', 'search.earthlink.net',\n",
       "       'fi.search.yahoo.com', 'google.com.ec', 'web.facebook.com',\n",
       "       'sg.search.yahoo.com', 'linkedin.com', 'ru.pinterest.com',\n",
       "       'ch.search.yahoo.com', 'mail.aol.com', 'google.com.pk',\n",
       "       'cse.google.com', 'wikihow.com', 'go.mail.ru',\n",
       "       'fr-fr.facebook.com', 'ca-mg5.mail.yahoo.com', 'chatwork.com',\n",
       "       'seroundtable.com', 'google.ca', 'results.searchlock.com',\n",
       "       'es.yhs4.search.yahoo.com', 'cl.search.yahoo.com', 'google.com.tw',\n",
       "       'fr.search.yahoo.com', 'google.com.hk', 'business.facebook.com',\n",
       "       'yandex', 'suche.t-online.de', 'goto.google.com',\n",
       "       'mx.search.yahoo.com', 'marketingland.com',\n",
       "       'espanol.search.yahoo.com', 'basecamp.com',\n",
       "       'blackboard.bentley.edu', 'calendar.google.com'], dtype=object)"
      ]
     },
     "execution_count": 178,
     "metadata": {},
     "output_type": "execute_result"
    }
   ],
   "source": [
    "'''\n",
    "데이터가 너무 많아서 어떻게 할 지 고민\n",
    "해당 데이터는 google로 텍스트 전처리를 통해서 사이트만 가지고 카테고리를 만들어도 괜찮을 수도 있다. \n",
    "e.g) google.co.jp == google == google.com 이기 때문에 google로 한 개를 만드는 것\n",
    "'''\n",
    "data.traffic_source.unique()"
   ]
  },
  {
   "cell_type": "code",
   "execution_count": 179,
   "id": "a8950337-2a42-4a52-bcfb-58ec62b1719b",
   "metadata": {},
   "outputs": [
    {
     "data": {
      "text/plain": [
       "array(['organic', '(none)', 'affiliate', 'referral', 'cpc', 'cpm',\n",
       "       '(not set)'], dtype=object)"
      ]
     },
     "execution_count": 179,
     "metadata": {},
     "output_type": "execute_result"
    }
   ],
   "source": [
    "'''\n",
    "7개 one-hot을 사용해도 괜찮을 것 같다. \n",
    "'''\n",
    "data.traffic_medium.unique()"
   ]
  },
  {
   "cell_type": "code",
   "execution_count": 180,
   "id": "b600d6e4-dbe5-49c6-9051-f3c2fd47e1e7",
   "metadata": {},
   "outputs": [
    {
     "data": {
      "text/plain": [
       "count    501.000000\n",
       "mean       3.047904\n",
       "std        4.424670\n",
       "min        1.000000\n",
       "25%        1.000000\n",
       "50%        1.000000\n",
       "75%        3.000000\n",
       "max       34.000000\n",
       "Name: TARGET, dtype: float64"
      ]
     },
     "execution_count": 180,
     "metadata": {},
     "output_type": "execute_result"
    }
   ],
   "source": [
    "data[data['traffic_medium']=='cpm']['TARGET'].describe()"
   ]
  },
  {
   "cell_type": "code",
   "execution_count": 181,
   "id": "f57c4c6b-e530-4cae-9823-b87953b2ee28",
   "metadata": {},
   "outputs": [
    {
     "data": {
      "text/plain": [
       "'\\n고민\\n'"
      ]
     },
     "execution_count": 181,
     "metadata": {},
     "output_type": "execute_result"
    }
   ],
   "source": [
    "'''\n",
    "고민\n",
    "'''\n",
    "# data.keyword.unique()"
   ]
  },
  {
   "cell_type": "code",
   "execution_count": 17,
   "id": "f6f3d0c0-b8ff-4ae9-8a1e-ca73b4a6f450",
   "metadata": {},
   "outputs": [
    {
     "name": "stdout",
     "output_type": "stream",
     "text": [
      "{'Category11', 'Category6', 'Category9', 'Category12', 'Category8', 'Category13', 'Category1', 'Category2', 'Category3', 'Category5', 'Category10', 'Category4', 'Category7'}\n"
     ]
    }
   ],
   "source": [
    "cate = []\n",
    "\n",
    "for i in range(1, len(data.referral_path.unique().tolist())):\n",
    "    cate.append(data.referral_path.unique().tolist()[i].split('_')[0])\n",
    "\n",
    "print(set(cate))"
   ]
  },
  {
   "cell_type": "markdown",
   "id": "6ff0f8fd-b205-4da4-b7d7-63b78e773992",
   "metadata": {},
   "source": [
    "### 결측치\n",
    "keyword, referral_path 결측치가 너무 많아 삭제하기에는 데이터 손실로 인하여 대체법 생각"
   ]
  },
  {
   "cell_type": "code",
   "execution_count": 28,
   "id": "d3e2c4c7-60b1-4364-9929-db1b935aa16e",
   "metadata": {},
   "outputs": [
    {
     "data": {
      "text/plain": [
       "sessionID                   0\n",
       "userID                      0\n",
       "TARGET                      0\n",
       "browser                     0\n",
       "OS                          0\n",
       "device                      0\n",
       "new                         0\n",
       "quality                     0\n",
       "duration                    0\n",
       "bounced                     0\n",
       "transaction                 0\n",
       "transaction_revenue         0\n",
       "continent                   0\n",
       "subcontinent                0\n",
       "country                     0\n",
       "traffic_source              0\n",
       "traffic_medium              0\n",
       "keyword                137675\n",
       "referral_path          161107\n",
       "dtype: int64"
      ]
     },
     "execution_count": 28,
     "metadata": {},
     "output_type": "execute_result"
    }
   ],
   "source": [
    "data.isnull().sum()"
   ]
  },
  {
   "cell_type": "markdown",
   "id": "44eb8bab-b7d0-4c06-92e7-00f9e5423ddc",
   "metadata": {},
   "source": [
    "### 범주형 중복 데이터 확인"
   ]
  },
  {
   "cell_type": "code",
   "execution_count": 29,
   "id": "999361ff-bc60-429f-907a-4624e95d585d",
   "metadata": {},
   "outputs": [],
   "source": [
    "# object_col = data.describe(include ='object').columns.tolist()\n",
    "\n",
    "# for col in object_col:\n",
    "#     print(f\"{col}중복 데이터:{sum(data[col].duplicated())}\")"
   ]
  },
  {
   "cell_type": "markdown",
   "id": "762d2065-be75-4a16-896d-f526d9d5127a",
   "metadata": {},
   "source": [
    "### 데이터 시각화"
   ]
  },
  {
   "cell_type": "markdown",
   "id": "7323aeef-1865-45ef-83df-98d6e1a2fb21",
   "metadata": {},
   "source": [
    "#### 연속형 데이터 시각화\n",
    "많은 이상치가 존재한다. 따라서 이상치를 각각 처리를 고민해야 된다."
   ]
  },
  {
   "cell_type": "code",
   "execution_count": 30,
   "id": "d01a8077-d6dc-471f-a3c3-57a66afac34f",
   "metadata": {},
   "outputs": [
    {
     "data": {
      "image/png": "[encoded data removed]",
      "text/plain": [
       "<Figure size 1200x600 with 8 Axes>"
      ]
     },
     "metadata": {},
     "output_type": "display_data"
    }
   ],
   "source": [
    "num_cols = data.describe().columns.tolist()\n",
    "fig, axes = plt.subplots(2, 4, figsize=(12, 6))\n",
    "\n",
    "## 박스플롯\n",
    "for idx, col in enumerate(num_cols):\n",
    "    sns.boxplot(y=data[col], ax=axes[idx//4, idx%4], color='g') \n",
    "    axes[idx//4, idx%4].set_title(col)\n",
    " \n",
    "plt.tight_layout()\n",
    "plt.show()"
   ]
  },
  {
   "cell_type": "markdown",
   "id": "a4b9a33a-76b3-4e82-aadc-505c534f8002",
   "metadata": {},
   "source": [
    "#### 범주형 데이터 시각화"
   ]
  },
  {
   "cell_type": "code",
   "execution_count": 31,
   "id": "b7e69e73-51fb-45f2-ad8b-8b8fbe5f499a",
   "metadata": {},
   "outputs": [
    {
     "name": "stderr",
     "output_type": "stream",
     "text": [
      "C:\\Users\\daesk\\AppData\\Local\\Temp\\ipykernel_20100\\3918553848.py:12: UserWarning: Tight layout not applied. tight_layout cannot make axes height small enough to accommodate all axes decorations.\n",
      "  plt.tight_layout()\n"
     ]
    },
    {
     "data": {
      "image/png": "[encoded data removed]",
      "text/plain": [
       "<Figure size 1500x1000 with 10 Axes>"
      ]
     },
     "metadata": {},
     "output_type": "display_data"
    }
   ],
   "source": [
    "object_col = data.describe(include ='object').columns.tolist()[2:]\n",
    "fig, axes = plt.subplots(5, 2, figsize=(15, 10))\n",
    "\n",
    "for i, col in enumerate(object_col):  \n",
    "    counts = data[col].value_counts(normalize=True).values\n",
    "    categories = data[col].value_counts(normalize=True).index\n",
    "    \n",
    "    sns.barplot(x=categories, y=counts, ax=axes[i//2, i%2])\n",
    "    axes[i//2, i%2].tick_params(axis='x', rotation=45)\n",
    "    axes[i//2, i%2].set_title(col)\n",
    "    \n",
    "plt.tight_layout()\n",
    "plt.show()"
   ]
  },
  {
   "cell_type": "markdown",
   "id": "09a7c434-92e4-46cc-be3b-5bec7bd38418",
   "metadata": {},
   "source": [
    "## 데이터 전처리"
   ]
  },
  {
   "cell_type": "markdown",
   "id": "4df690f6-fb9a-4a77-8e54-988c6c80df25",
   "metadata": {},
   "source": [
    "### 이상치 전처리"
   ]
  },
  {
   "cell_type": "markdown",
   "id": "4e7f7aec-2264-4573-b3b0-243534985a20",
   "metadata": {},
   "source": [
    "#### quality 이상치 처리\n",
    "quality : 세션의 질 (거래 성사를 기준으로 측정된 값, 범위: 1~100)<br>\n",
    "따라서, 거래가 높을수록 quality가 높지 않을까? 그것을 확인해서 전처리를 진행\n",
    "그렇다면 거래 성사라는 것이 어떤 변수인지 상관성이 있는 변수를 찾는다. \n",
    "\n",
    "해당 변수들이 거래와 관련된 변수이다 \n",
    "\n",
    "- transaction : 세션 내에서 발생의 거래의 수\r",
    "- \r\n",
    "transaction_revenue : 총 거래 수익"
   ]
  },
  {
   "cell_type": "code",
   "execution_count": null,
   "id": "9f9eba59-2a56-49c3-975e-184d8bc53f52",
   "metadata": {},
   "outputs": [],
   "source": [
    "## 퀄리티가 떨어지는 데이터가 훨씬 많다.\n",
    "# data.groupby('quality').size().tolist()"
   ]
  },
  {
   "cell_type": "code",
   "execution_count": null,
   "id": "7b71abab-8281-4863-b709-88a82b2d7bda",
   "metadata": {},
   "outputs": [],
   "source": [
    "# ## 1. quality를 5개의 범위로 나눠서 구간을 생성 \n",
    "# data['cate_quality'] = pd.cut(data['quality'], bins=[0,20,40,60,80,100], right=True)\n",
    "# data\n",
    "\n",
    "# ## 2. data scaling으로만 정리"
   ]
  },
  {
   "cell_type": "markdown",
   "id": "a003ee2b-8e75-48e0-a8d4-36fada7d522f",
   "metadata": {},
   "source": [
    "#### duration 이상치 처리\n",
    "단위가 초이기 때문에 시간으로 더 줄이면 특이한 패턴(장시간 페이지에 존재를 파악할 수 있다.)으로 학습에 사용하기 편리할 수 있다."
   ]
  },
  {
   "cell_type": "code",
   "execution_count": 298,
   "id": "f74ea6ba-250b-488b-87cd-0488538d642d",
   "metadata": {},
   "outputs": [],
   "source": [
    "# aa = data.duration//60 ## 분당 \n",
    "# len(aa.unique())\n",
    "# (aa//60).unique()"
   ]
  },
  {
   "cell_type": "markdown",
   "id": "2dd5cfe2-624a-43d9-b92e-c7bbc69d08a8",
   "metadata": {},
   "source": [
    "#### transaction_revenue 이상치 처리 (transaction 거래 수 이기 때문에 그냥 바로 사용해도 된다. 라벨인코딩형태로)\n",
    "transaction_revenue"
   ]
  },
  {
   "cell_type": "code",
   "execution_count": 297,
   "id": "4cc4914f-e15c-4897-9900-4f7027f6ac11",
   "metadata": {},
   "outputs": [],
   "source": [
    "# 표준편차가 매우 크다 따라서 이상치가 너무 높다는 것\n",
    "# data.transaction_revenue.describe()"
   ]
  },
  {
   "cell_type": "code",
   "execution_count": 296,
   "id": "a822d028-d08f-400f-972e-b38108a54599",
   "metadata": {},
   "outputs": [],
   "source": [
    "# data[data.transaction_revenue == 0][['TARGET','traffic_medium']]"
   ]
  },
  {
   "cell_type": "markdown",
   "id": "85245fef-0b5e-4d25-8f36-d946f3504454",
   "metadata": {
    "jp-MarkdownHeadingCollapsed": true
   },
   "source": [
    "### 데이터 스케일"
   ]
  },
  {
   "cell_type": "code",
   "execution_count": 219,
   "id": "cc843c7f-71f6-4ca8-905a-cd3d770dbe33",
   "metadata": {},
   "outputs": [],
   "source": [
    "from sklearn.preprocessing import MinMaxScaler, StandardScaler, RobustScaler, MaxAbsScaler, QuantileTransformer\n",
    "\n",
    "def scale_data(data, scaler_type):\n",
    "    if scaler_type == 'minmax':\n",
    "        scaler = MinMaxScaler()\n",
    "    elif scaler_type == 'standard':\n",
    "        scaler = StandardScaler()\n",
    "    elif scaler_type == 'robust':\n",
    "        scaler = RobustScaler()\n",
    "    elif scaler_type == 'maxabs':\n",
    "        scaler = MaxAbsScaler()\n",
    "    elif scaler_type == 'quantile':\n",
    "        scaler = QuantileTransformer()\n",
    "\n",
    "    scaled_data = scaler.fit_transform(data)\n",
    "    return scaled_data"
   ]
  },
  {
   "cell_type": "code",
   "execution_count": 224,
   "id": "97e932ab-0c19-4b1f-8bfc-3c2d4df5e299",
   "metadata": {},
   "outputs": [
    {
     "data": {
      "text/plain": [
       "array([[0.04155844, 0.        , 0.45360825, ..., 0.        , 0.        ,\n",
       "        0.        ],\n",
       "       [0.00519481, 1.        , 0.        , ..., 0.        , 0.        ,\n",
       "        0.        ],\n",
       "       [0.        , 1.        , 0.        , ..., 1.        , 0.        ,\n",
       "        0.        ],\n",
       "       ...,\n",
       "       [0.01038961, 0.        , 0.01030928, ..., 0.        , 0.        ,\n",
       "        0.        ],\n",
       "       [0.        , 1.        , 0.        , ..., 0.        , 0.        ,\n",
       "        0.        ],\n",
       "       [0.01298701, 0.        , 0.04123711, ..., 0.        , 0.        ,\n",
       "        0.        ]])"
      ]
     },
     "execution_count": 224,
     "metadata": {},
     "output_type": "execute_result"
    }
   ],
   "source": [
    "# data_scale = scale_data(data.select_dtypes(exclude='object'), 'minmax')\n",
    "# data_scale"
   ]
  },
  {
   "cell_type": "code",
   "execution_count": 225,
   "id": "32614408-df65-4c99-880c-dc649550b85e",
   "metadata": {},
   "outputs": [
    {
     "data": {
      "text/html": [
       "<div>\n",
       "<style scoped>\n",
       "    .dataframe tbody tr th:only-of-type {\n",
       "        vertical-align: middle;\n",
       "    }\n",
       "\n",
       "    .dataframe tbody tr th {\n",
       "        vertical-align: top;\n",
       "    }\n",
       "\n",
       "    .dataframe thead th {\n",
       "        text-align: right;\n",
       "    }\n",
       "</style>\n",
       "<table border=\"1\" class=\"dataframe\">\n",
       "  <thead>\n",
       "    <tr style=\"text-align: right;\">\n",
       "      <th></th>\n",
       "      <th>TARGET</th>\n",
       "      <th>new</th>\n",
       "      <th>quality</th>\n",
       "      <th>duration</th>\n",
       "      <th>bounced</th>\n",
       "      <th>transaction</th>\n",
       "      <th>transaction_revenue</th>\n",
       "    </tr>\n",
       "  </thead>\n",
       "  <tbody>\n",
       "    <tr>\n",
       "      <th>0</th>\n",
       "      <td>0.041558</td>\n",
       "      <td>0.0</td>\n",
       "      <td>0.453608</td>\n",
       "      <td>0.075004</td>\n",
       "      <td>0.0</td>\n",
       "      <td>0.0</td>\n",
       "      <td>0.0</td>\n",
       "    </tr>\n",
       "    <tr>\n",
       "      <th>1</th>\n",
       "      <td>0.005195</td>\n",
       "      <td>1.0</td>\n",
       "      <td>0.000000</td>\n",
       "      <td>0.003487</td>\n",
       "      <td>0.0</td>\n",
       "      <td>0.0</td>\n",
       "      <td>0.0</td>\n",
       "    </tr>\n",
       "    <tr>\n",
       "      <th>2</th>\n",
       "      <td>0.000000</td>\n",
       "      <td>1.0</td>\n",
       "      <td>0.000000</td>\n",
       "      <td>0.000000</td>\n",
       "      <td>1.0</td>\n",
       "      <td>0.0</td>\n",
       "      <td>0.0</td>\n",
       "    </tr>\n",
       "    <tr>\n",
       "      <th>3</th>\n",
       "      <td>0.000000</td>\n",
       "      <td>1.0</td>\n",
       "      <td>0.000000</td>\n",
       "      <td>0.000000</td>\n",
       "      <td>1.0</td>\n",
       "      <td>0.0</td>\n",
       "      <td>0.0</td>\n",
       "    </tr>\n",
       "    <tr>\n",
       "      <th>4</th>\n",
       "      <td>0.000000</td>\n",
       "      <td>0.0</td>\n",
       "      <td>0.000000</td>\n",
       "      <td>0.000000</td>\n",
       "      <td>1.0</td>\n",
       "      <td>0.0</td>\n",
       "      <td>0.0</td>\n",
       "    </tr>\n",
       "    <tr>\n",
       "      <th>...</th>\n",
       "      <td>...</td>\n",
       "      <td>...</td>\n",
       "      <td>...</td>\n",
       "      <td>...</td>\n",
       "      <td>...</td>\n",
       "      <td>...</td>\n",
       "      <td>...</td>\n",
       "    </tr>\n",
       "    <tr>\n",
       "      <th>252284</th>\n",
       "      <td>0.000000</td>\n",
       "      <td>1.0</td>\n",
       "      <td>0.000000</td>\n",
       "      <td>0.000000</td>\n",
       "      <td>1.0</td>\n",
       "      <td>0.0</td>\n",
       "      <td>0.0</td>\n",
       "    </tr>\n",
       "    <tr>\n",
       "      <th>252285</th>\n",
       "      <td>0.000000</td>\n",
       "      <td>0.0</td>\n",
       "      <td>0.000000</td>\n",
       "      <td>0.000000</td>\n",
       "      <td>1.0</td>\n",
       "      <td>0.0</td>\n",
       "      <td>0.0</td>\n",
       "    </tr>\n",
       "    <tr>\n",
       "      <th>252286</th>\n",
       "      <td>0.010390</td>\n",
       "      <td>0.0</td>\n",
       "      <td>0.010309</td>\n",
       "      <td>0.006168</td>\n",
       "      <td>0.0</td>\n",
       "      <td>0.0</td>\n",
       "      <td>0.0</td>\n",
       "    </tr>\n",
       "    <tr>\n",
       "      <th>252287</th>\n",
       "      <td>0.000000</td>\n",
       "      <td>1.0</td>\n",
       "      <td>0.000000</td>\n",
       "      <td>0.002503</td>\n",
       "      <td>0.0</td>\n",
       "      <td>0.0</td>\n",
       "      <td>0.0</td>\n",
       "    </tr>\n",
       "    <tr>\n",
       "      <th>252288</th>\n",
       "      <td>0.012987</td>\n",
       "      <td>0.0</td>\n",
       "      <td>0.041237</td>\n",
       "      <td>0.006884</td>\n",
       "      <td>0.0</td>\n",
       "      <td>0.0</td>\n",
       "      <td>0.0</td>\n",
       "    </tr>\n",
       "  </tbody>\n",
       "</table>\n",
       "<p>252289 rows × 7 columns</p>\n",
       "</div>"
      ],
      "text/plain": [
       "          TARGET  new   quality  duration  bounced  transaction  \\\n",
       "0       0.041558  0.0  0.453608  0.075004      0.0          0.0   \n",
       "1       0.005195  1.0  0.000000  0.003487      0.0          0.0   \n",
       "2       0.000000  1.0  0.000000  0.000000      1.0          0.0   \n",
       "3       0.000000  1.0  0.000000  0.000000      1.0          0.0   \n",
       "4       0.000000  0.0  0.000000  0.000000      1.0          0.0   \n",
       "...          ...  ...       ...       ...      ...          ...   \n",
       "252284  0.000000  1.0  0.000000  0.000000      1.0          0.0   \n",
       "252285  0.000000  0.0  0.000000  0.000000      1.0          0.0   \n",
       "252286  0.010390  0.0  0.010309  0.006168      0.0          0.0   \n",
       "252287  0.000000  1.0  0.000000  0.002503      0.0          0.0   \n",
       "252288  0.012987  0.0  0.041237  0.006884      0.0          0.0   \n",
       "\n",
       "        transaction_revenue  \n",
       "0                       0.0  \n",
       "1                       0.0  \n",
       "2                       0.0  \n",
       "3                       0.0  \n",
       "4                       0.0  \n",
       "...                     ...  \n",
       "252284                  0.0  \n",
       "252285                  0.0  \n",
       "252286                  0.0  \n",
       "252287                  0.0  \n",
       "252288                  0.0  \n",
       "\n",
       "[252289 rows x 7 columns]"
      ]
     },
     "execution_count": 225,
     "metadata": {},
     "output_type": "execute_result"
    }
   ],
   "source": [
    "# new_data = pd.DataFrame(data_scale, columns = data.select_dtypes(exclude='object').columns)\n",
    "# new_data"
   ]
  },
  {
   "cell_type": "code",
   "execution_count": 294,
   "id": "6195e595-6572-4010-91d5-4ce16e2c2e6c",
   "metadata": {},
   "outputs": [],
   "source": [
    "# new_data.describe()"
   ]
  },
  {
   "cell_type": "code",
   "execution_count": 295,
   "id": "92165d77-685f-4c32-9579-70164b0f529c",
   "metadata": {},
   "outputs": [],
   "source": [
    "# num_cols = new_data.columns.tolist()\n",
    "# fig, axes = plt.subplots(2, 4, figsize=(12, 6))\n",
    "\n",
    "# ## 박스플롯\n",
    "# for idx, col in enumerate(num_cols):\n",
    "#     sns.boxplot(y=new_data[col], ax=axes[idx//4, idx%4], color='g') \n",
    "#     axes[idx//4, idx%4].set_title(col)\n",
    " \n",
    "# plt.tight_layout()\n",
    "# plt.show()"
   ]
  },
  {
   "cell_type": "markdown",
   "id": "61c6984f-7a5d-47e9-a53d-2e990a8191e5",
   "metadata": {},
   "source": [
    "### 범주형 전처리"
   ]
  },
  {
   "cell_type": "code",
   "execution_count": null,
   "id": "4f5a8e63-bdd7-4b3a-bcb5-5cc972d88345",
   "metadata": {},
   "outputs": [],
   "source": [
    "data.describe(include='object')"
   ]
  },
  {
   "cell_type": "markdown",
   "id": "59f15772-da75-4bb0-af51-0cad93f562a9",
   "metadata": {
    "jp-MarkdownHeadingCollapsed": true
   },
   "source": [
    "## 데이터 분리 - Hold_out"
   ]
  },
  {
   "cell_type": "code",
   "execution_count": 272,
   "id": "ee367b12-083b-4526-bc39-436df05092b3",
   "metadata": {},
   "outputs": [],
   "source": [
    "## 데이터 분할\n",
    "X = data.drop(['sessionID', 'userID', 'TARGET'],axis=1)\n",
    "Y = data.TARGET"
   ]
  },
  {
   "cell_type": "code",
   "execution_count": 273,
   "id": "0464a8d2-d5aa-4b67-b9be-39c0864e63f9",
   "metadata": {},
   "outputs": [],
   "source": [
    "from sklearn.model_selection import train_test_split\n",
    "\n",
    "## 연속형 데이터로 모델 학습\n",
    "x = X.select_dtypes(exclude='object')\n",
    "\n",
    "## 데이터 스케일링 적용\n",
    "x_scale = scale_data(x, 'minmax')\n",
    "\n",
    "## 학습용 데이터 생성\n",
    "x_train, x_valid, y_train, y_valid = train_test_split(x_scale, Y, test_size=0.2, shuffle=True, random_state=1106)"
   ]
  },
  {
   "cell_type": "markdown",
   "id": "f2a2938c-fe52-41ec-8800-0dad9f33e353",
   "metadata": {},
   "source": [
    "## 모델 파트"
   ]
  },
  {
   "cell_type": "code",
   "execution_count": 322,
   "id": "b1247430-aa56-4a92-bf0d-48d5337a603a",
   "metadata": {},
   "outputs": [],
   "source": [
    "from sklearn.metrics import mean_squared_error"
   ]
  },
  {
   "cell_type": "markdown",
   "id": "a122835e-5591-41bf-a10b-bf7452c3f470",
   "metadata": {},
   "source": [
    "### RandomForestRegressor 모델 생성"
   ]
  },
  {
   "cell_type": "code",
   "execution_count": 323,
   "id": "9e2b80a4-2f8f-4e2d-acff-c1b8609176d9",
   "metadata": {},
   "outputs": [],
   "source": [
    "from sklearn.ensemble import RandomForestRegressor\n",
    "from sklearn.model_selection import GridSearchCV\n",
    "from sklearn.model_selection import RandomizedSearchCV\n",
    "from sklearn.model_selection import KFold"
   ]
  },
  {
   "cell_type": "code",
   "execution_count": 324,
   "id": "351ec619-7e9b-4057-94fe-37451209805e",
   "metadata": {},
   "outputs": [],
   "source": [
    "# 모델 생성\n",
    "rf_model = RandomForestRegressor(random_state=1106, n_jobs=-1)\n",
    "\n",
    "## 하이퍼파라미터 튜닝\n",
    "param_grid = {\n",
    "    'n_estimators': [100, 200, 300],\n",
    "    'max_depth': [None, 5, 10],\n",
    "    'min_samples_split': [2, 5, 10],\n",
    "    'min_samples_leaf': [1, 2, 4]\n",
    "}"
   ]
  },
  {
   "cell_type": "markdown",
   "id": "8ec30e89-ff43-47e6-bd5b-b9489561d85e",
   "metadata": {},
   "source": [
    "### 랜덤 서치"
   ]
  },
  {
   "cell_type": "code",
   "execution_count": 310,
   "id": "f4ca0fa8-903c-4104-8ede-d7fa63806437",
   "metadata": {},
   "outputs": [],
   "source": [
    "# 랜덤 서치 객체 생성\n",
    "random_search = RandomizedSearchCV(rf_model, param_distributions=param_grid, n_iter=10, n_jobs=-1, cv=KFold(n_splits=5, shuffle=True))\n",
    "\n",
    "# 랜덤 서치 수행\n",
    "random_search.fit(x_train, y_train)\n",
    "\n",
    "# 최적의 하이퍼파라미터와 평가 점수 출력\n",
    "print(\"최적의 하이퍼파라미터:\", random_search.best_params_)\n",
    "print(\"최고의 평가 점수:\", random_search.best_score_)"
   ]
  },
  {
   "cell_type": "markdown",
   "id": "f8bd55b2-4ee7-4099-af8f-f86a2e389cfc",
   "metadata": {
    "jp-MarkdownHeadingCollapsed": true
   },
   "source": [
    "### 그리드 서치"
   ]
  },
  {
   "cell_type": "code",
   "execution_count": 307,
   "id": "576fb784-5937-43fc-a649-f1c800a0b909",
   "metadata": {},
   "outputs": [
    {
     "name": "stdout",
     "output_type": "stream",
     "text": [
      "최적의 하이퍼파라미터: {'max_depth': 10, 'min_samples_leaf': 2, 'min_samples_split': 5, 'n_estimators': 100}\n",
      "최고의 평가 점수: 0.677775972561395\n"
     ]
    }
   ],
   "source": [
    "# 그리드 서치 객체 생성\n",
    "grid_search = GridSearchCV(rf_model, param_grid=param_grid, n_jobs=-1, cv=KFold(n_splits=3, shuffle=True))\n",
    "\n",
    "# 그리드 서치 수행\n",
    "grid_search.fit(x_train, y_train)\n",
    "\n",
    "# 최적의 하이퍼파라미터와 평가 점수 출력\n",
    "print(\"최적의 하이퍼파라미터:\", grid_search.best_params_)\n",
    "print(\"최고의 평가 점수:\", grid_search.best_score_)"
   ]
  },
  {
   "cell_type": "markdown",
   "id": "a741011d-0669-45a6-a318-7c6366e81522",
   "metadata": {},
   "source": [
    "#### 모델 학습"
   ]
  },
  {
   "cell_type": "code",
   "execution_count": 325,
   "id": "3bab8b93-7e50-4ab9-bb98-5b8e1663de93",
   "metadata": {},
   "outputs": [
    {
     "data": {
      "text/html": [
       "<style>#sk-container-id-3 {color: black;background-color: white;}#sk-container-id-3 pre{padding: 0;}#sk-container-id-3 div.sk-toggleable {background-color: white;}#sk-container-id-3 label.sk-toggleable__label {cursor: pointer;display: block;width: 100%;margin-bottom: 0;padding: 0.3em;box-sizing: border-box;text-align: center;}#sk-container-id-3 label.sk-toggleable__label-arrow:before {content: \"▸\";float: left;margin-right: 0.25em;color: #696969;}#sk-container-id-3 label.sk-toggleable__label-arrow:hover:before {color: black;}#sk-container-id-3 div.sk-estimator:hover label.sk-toggleable__label-arrow:before {color: black;}#sk-container-id-3 div.sk-toggleable__content {max-height: 0;max-width: 0;overflow: hidden;text-align: left;background-color: #f0f8ff;}#sk-container-id-3 div.sk-toggleable__content pre {margin: 0.2em;color: black;border-radius: 0.25em;background-color: #f0f8ff;}#sk-container-id-3 input.sk-toggleable__control:checked~div.sk-toggleable__content {max-height: 200px;max-width: 100%;overflow: auto;}#sk-container-id-3 input.sk-toggleable__control:checked~label.sk-toggleable__label-arrow:before {content: \"▾\";}#sk-container-id-3 div.sk-estimator input.sk-toggleable__control:checked~label.sk-toggleable__label {background-color: #d4ebff;}#sk-container-id-3 div.sk-label input.sk-toggleable__control:checked~label.sk-toggleable__label {background-color: #d4ebff;}#sk-container-id-3 input.sk-hidden--visually {border: 0;clip: rect(1px 1px 1px 1px);clip: rect(1px, 1px, 1px, 1px);height: 1px;margin: -1px;overflow: hidden;padding: 0;position: absolute;width: 1px;}#sk-container-id-3 div.sk-estimator {font-family: monospace;background-color: #f0f8ff;border: 1px dotted black;border-radius: 0.25em;box-sizing: border-box;margin-bottom: 0.5em;}#sk-container-id-3 div.sk-estimator:hover {background-color: #d4ebff;}#sk-container-id-3 div.sk-parallel-item::after {content: \"\";width: 100%;border-bottom: 1px solid gray;flex-grow: 1;}#sk-container-id-3 div.sk-label:hover label.sk-toggleable__label {background-color: #d4ebff;}#sk-container-id-3 div.sk-serial::before {content: \"\";position: absolute;border-left: 1px solid gray;box-sizing: border-box;top: 0;bottom: 0;left: 50%;z-index: 0;}#sk-container-id-3 div.sk-serial {display: flex;flex-direction: column;align-items: center;background-color: white;padding-right: 0.2em;padding-left: 0.2em;position: relative;}#sk-container-id-3 div.sk-item {position: relative;z-index: 1;}#sk-container-id-3 div.sk-parallel {display: flex;align-items: stretch;justify-content: center;background-color: white;position: relative;}#sk-container-id-3 div.sk-item::before, #sk-container-id-3 div.sk-parallel-item::before {content: \"\";position: absolute;border-left: 1px solid gray;box-sizing: border-box;top: 0;bottom: 0;left: 50%;z-index: -1;}#sk-container-id-3 div.sk-parallel-item {display: flex;flex-direction: column;z-index: 1;position: relative;background-color: white;}#sk-container-id-3 div.sk-parallel-item:first-child::after {align-self: flex-end;width: 50%;}#sk-container-id-3 div.sk-parallel-item:last-child::after {align-self: flex-start;width: 50%;}#sk-container-id-3 div.sk-parallel-item:only-child::after {width: 0;}#sk-container-id-3 div.sk-dashed-wrapped {border: 1px dashed gray;margin: 0 0.4em 0.5em 0.4em;box-sizing: border-box;padding-bottom: 0.4em;background-color: white;}#sk-container-id-3 div.sk-label label {font-family: monospace;font-weight: bold;display: inline-block;line-height: 1.2em;}#sk-container-id-3 div.sk-label-container {text-align: center;}#sk-container-id-3 div.sk-container {/* jupyter's `normalize.less` sets `[hidden] { display: none; }` but bootstrap.min.css set `[hidden] { display: none !important; }` so we also need the `!important` here to be able to override the default hidden behavior on the sphinx rendered scikit-learn.org. See: https://github.com/scikit-learn/scikit-learn/issues/21755 */display: inline-block !important;position: relative;}#sk-container-id-3 div.sk-text-repr-fallback {display: none;}</style><div id=\"sk-container-id-3\" class=\"sk-top-container\"><div class=\"sk-text-repr-fallback\"><pre>RandomForestRegressor(max_depth=10, min_samples_leaf=2, min_samples_split=5,\n",
       "                      random_state=0)</pre><b>In a Jupyter environment, please rerun this cell to show the HTML representation or trust the notebook. <br />On GitHub, the HTML representation is unable to render, please try loading this page with nbviewer.org.</b></div><div class=\"sk-container\" hidden><div class=\"sk-item\"><div class=\"sk-estimator sk-toggleable\"><input class=\"sk-toggleable__control sk-hidden--visually\" id=\"sk-estimator-id-3\" type=\"checkbox\" checked><label for=\"sk-estimator-id-3\" class=\"sk-toggleable__label sk-toggleable__label-arrow\">RandomForestRegressor</label><div class=\"sk-toggleable__content\"><pre>RandomForestRegressor(max_depth=10, min_samples_leaf=2, min_samples_split=5,\n",
       "                      random_state=0)</pre></div></div></div></div></div>"
      ],
      "text/plain": [
       "RandomForestRegressor(max_depth=10, min_samples_leaf=2, min_samples_split=5,\n",
       "                      random_state=0)"
      ]
     },
     "execution_count": 325,
     "metadata": {},
     "output_type": "execute_result"
    }
   ],
   "source": [
    "# 랜덤포레스트 학습\n",
    "rf_model = RandomForestRegressor(random_state=0, max_depth=10, min_samples_leaf=2, min_samples_split=5, n_estimators=100)\n",
    "rf_model.fit(x_train, y_train)"
   ]
  },
  {
   "cell_type": "markdown",
   "id": "24fc610d-8cf2-4aaf-8775-48faab1e36cd",
   "metadata": {},
   "source": [
    "#### 모델 성능 평가"
   ]
  },
  {
   "cell_type": "code",
   "execution_count": 326,
   "id": "f8b0d57b-e0f3-4a28-961d-801a7ac07008",
   "metadata": {},
   "outputs": [
    {
     "name": "stdout",
     "output_type": "stream",
     "text": [
      "훈련 세트 RMSE: 2.89\n",
      "검증 세트 RMSE: 2.93\n"
     ]
    }
   ],
   "source": [
    "# 훈련 세트의 예측값 계산\n",
    "y_train_pred = rf_model.predict(x_train)\n",
    "\n",
    "# 검증 세트의 예측값 계산\n",
    "y_valid_pred = rf_model.predict(x_valid)\n",
    "\n",
    "# RMSE 계산\n",
    "train_rmse = np.sqrt(mean_squared_error(y_train, y_train_pred))\n",
    "valid_rmse = np.sqrt(mean_squared_error(y_valid, y_valid_pred))\n",
    "\n",
    "print(\"훈련 세트 RMSE: {:.2f}\".format(train_rmse))\n",
    "print(\"검증 세트 RMSE: {:.2f}\".format(valid_rmse))"
   ]
  },
  {
   "cell_type": "markdown",
   "id": "ea1b8d0a-6c44-4c71-8774-6590bbee7aa4",
   "metadata": {},
   "source": [
    "#### 모델 예측"
   ]
  },
  {
   "cell_type": "code",
   "execution_count": 327,
   "id": "34ca1d8e-4ffc-4f36-a17d-2e183d3462c0",
   "metadata": {},
   "outputs": [
    {
     "data": {
      "text/html": [
       "<div>\n",
       "<style scoped>\n",
       "    .dataframe tbody tr th:only-of-type {\n",
       "        vertical-align: middle;\n",
       "    }\n",
       "\n",
       "    .dataframe tbody tr th {\n",
       "        vertical-align: top;\n",
       "    }\n",
       "\n",
       "    .dataframe thead th {\n",
       "        text-align: right;\n",
       "    }\n",
       "</style>\n",
       "<table border=\"1\" class=\"dataframe\">\n",
       "  <thead>\n",
       "    <tr style=\"text-align: right;\">\n",
       "      <th></th>\n",
       "      <th>browser</th>\n",
       "      <th>OS</th>\n",
       "      <th>device</th>\n",
       "      <th>new</th>\n",
       "      <th>quality</th>\n",
       "      <th>duration</th>\n",
       "      <th>bounced</th>\n",
       "      <th>transaction</th>\n",
       "      <th>transaction_revenue</th>\n",
       "      <th>continent</th>\n",
       "      <th>subcontinent</th>\n",
       "      <th>country</th>\n",
       "      <th>traffic_source</th>\n",
       "      <th>traffic_medium</th>\n",
       "      <th>keyword</th>\n",
       "      <th>referral_path</th>\n",
       "    </tr>\n",
       "  </thead>\n",
       "  <tbody>\n",
       "    <tr>\n",
       "      <th>0</th>\n",
       "      <td>Chrome</td>\n",
       "      <td>Linux</td>\n",
       "      <td>desktop</td>\n",
       "      <td>1</td>\n",
       "      <td>75.0</td>\n",
       "      <td>698.0</td>\n",
       "      <td>0</td>\n",
       "      <td>0.0</td>\n",
       "      <td>0.0</td>\n",
       "      <td>Americas</td>\n",
       "      <td>Northern America</td>\n",
       "      <td>United States</td>\n",
       "      <td>(direct)</td>\n",
       "      <td>(none)</td>\n",
       "      <td>NaN</td>\n",
       "      <td>Category1</td>\n",
       "    </tr>\n",
       "    <tr>\n",
       "      <th>1</th>\n",
       "      <td>Safari</td>\n",
       "      <td>iOS</td>\n",
       "      <td>tablet</td>\n",
       "      <td>0</td>\n",
       "      <td>1.0</td>\n",
       "      <td>0.0</td>\n",
       "      <td>1</td>\n",
       "      <td>0.0</td>\n",
       "      <td>0.0</td>\n",
       "      <td>Americas</td>\n",
       "      <td>Northern America</td>\n",
       "      <td>United States</td>\n",
       "      <td>google</td>\n",
       "      <td>organic</td>\n",
       "      <td>Category8</td>\n",
       "      <td>NaN</td>\n",
       "    </tr>\n",
       "    <tr>\n",
       "      <th>2</th>\n",
       "      <td>Chrome</td>\n",
       "      <td>Windows</td>\n",
       "      <td>desktop</td>\n",
       "      <td>1</td>\n",
       "      <td>1.0</td>\n",
       "      <td>33.0</td>\n",
       "      <td>0</td>\n",
       "      <td>0.0</td>\n",
       "      <td>0.0</td>\n",
       "      <td>Asia</td>\n",
       "      <td>Southern Asia</td>\n",
       "      <td>India</td>\n",
       "      <td>youtube.com</td>\n",
       "      <td>referral</td>\n",
       "      <td>NaN</td>\n",
       "      <td>Category2_Path_0082</td>\n",
       "    </tr>\n",
       "    <tr>\n",
       "      <th>3</th>\n",
       "      <td>Chrome</td>\n",
       "      <td>Android</td>\n",
       "      <td>mobile</td>\n",
       "      <td>1</td>\n",
       "      <td>1.0</td>\n",
       "      <td>76.0</td>\n",
       "      <td>0</td>\n",
       "      <td>0.0</td>\n",
       "      <td>0.0</td>\n",
       "      <td>Americas</td>\n",
       "      <td>Northern America</td>\n",
       "      <td>United States</td>\n",
       "      <td>google</td>\n",
       "      <td>organic</td>\n",
       "      <td>Category8</td>\n",
       "      <td>NaN</td>\n",
       "    </tr>\n",
       "    <tr>\n",
       "      <th>4</th>\n",
       "      <td>Internet Explorer</td>\n",
       "      <td>Windows Phone</td>\n",
       "      <td>mobile</td>\n",
       "      <td>1</td>\n",
       "      <td>2.0</td>\n",
       "      <td>372.0</td>\n",
       "      <td>0</td>\n",
       "      <td>0.0</td>\n",
       "      <td>0.0</td>\n",
       "      <td>Asia</td>\n",
       "      <td>Southern Asia</td>\n",
       "      <td>India</td>\n",
       "      <td>youtube.com</td>\n",
       "      <td>referral</td>\n",
       "      <td>NaN</td>\n",
       "      <td>Category11_Path_0088</td>\n",
       "    </tr>\n",
       "    <tr>\n",
       "      <th>...</th>\n",
       "      <td>...</td>\n",
       "      <td>...</td>\n",
       "      <td>...</td>\n",
       "      <td>...</td>\n",
       "      <td>...</td>\n",
       "      <td>...</td>\n",
       "      <td>...</td>\n",
       "      <td>...</td>\n",
       "      <td>...</td>\n",
       "      <td>...</td>\n",
       "      <td>...</td>\n",
       "      <td>...</td>\n",
       "      <td>...</td>\n",
       "      <td>...</td>\n",
       "      <td>...</td>\n",
       "      <td>...</td>\n",
       "    </tr>\n",
       "    <tr>\n",
       "      <th>79781</th>\n",
       "      <td>Internet Explorer</td>\n",
       "      <td>Windows</td>\n",
       "      <td>tablet</td>\n",
       "      <td>1</td>\n",
       "      <td>1.0</td>\n",
       "      <td>0.0</td>\n",
       "      <td>1</td>\n",
       "      <td>0.0</td>\n",
       "      <td>0.0</td>\n",
       "      <td>Americas</td>\n",
       "      <td>Northern America</td>\n",
       "      <td>United States</td>\n",
       "      <td>search.xfinity.com</td>\n",
       "      <td>referral</td>\n",
       "      <td>NaN</td>\n",
       "      <td>Category1</td>\n",
       "    </tr>\n",
       "    <tr>\n",
       "      <th>79782</th>\n",
       "      <td>Chrome</td>\n",
       "      <td>Macintosh</td>\n",
       "      <td>desktop</td>\n",
       "      <td>1</td>\n",
       "      <td>1.0</td>\n",
       "      <td>0.0</td>\n",
       "      <td>1</td>\n",
       "      <td>0.0</td>\n",
       "      <td>0.0</td>\n",
       "      <td>Americas</td>\n",
       "      <td>Northern America</td>\n",
       "      <td>United States</td>\n",
       "      <td>google</td>\n",
       "      <td>organic</td>\n",
       "      <td>Category8</td>\n",
       "      <td>NaN</td>\n",
       "    </tr>\n",
       "    <tr>\n",
       "      <th>79783</th>\n",
       "      <td>Safari</td>\n",
       "      <td>Macintosh</td>\n",
       "      <td>desktop</td>\n",
       "      <td>1</td>\n",
       "      <td>1.0</td>\n",
       "      <td>22.0</td>\n",
       "      <td>0</td>\n",
       "      <td>0.0</td>\n",
       "      <td>0.0</td>\n",
       "      <td>Oceania</td>\n",
       "      <td>Australasia</td>\n",
       "      <td>Australia</td>\n",
       "      <td>google</td>\n",
       "      <td>organic</td>\n",
       "      <td>Category8</td>\n",
       "      <td>NaN</td>\n",
       "    </tr>\n",
       "    <tr>\n",
       "      <th>79784</th>\n",
       "      <td>Safari</td>\n",
       "      <td>iOS</td>\n",
       "      <td>mobile</td>\n",
       "      <td>1</td>\n",
       "      <td>1.0</td>\n",
       "      <td>135.0</td>\n",
       "      <td>0</td>\n",
       "      <td>0.0</td>\n",
       "      <td>0.0</td>\n",
       "      <td>Americas</td>\n",
       "      <td>Northern America</td>\n",
       "      <td>United States</td>\n",
       "      <td>google</td>\n",
       "      <td>organic</td>\n",
       "      <td>Category8</td>\n",
       "      <td>NaN</td>\n",
       "    </tr>\n",
       "    <tr>\n",
       "      <th>79785</th>\n",
       "      <td>Chrome</td>\n",
       "      <td>Android</td>\n",
       "      <td>mobile</td>\n",
       "      <td>1</td>\n",
       "      <td>1.0</td>\n",
       "      <td>0.0</td>\n",
       "      <td>1</td>\n",
       "      <td>0.0</td>\n",
       "      <td>0.0</td>\n",
       "      <td>Europe</td>\n",
       "      <td>Southern Europe</td>\n",
       "      <td>Italy</td>\n",
       "      <td>google</td>\n",
       "      <td>organic</td>\n",
       "      <td>Category8</td>\n",
       "      <td>NaN</td>\n",
       "    </tr>\n",
       "  </tbody>\n",
       "</table>\n",
       "<p>79786 rows × 16 columns</p>\n",
       "</div>"
      ],
      "text/plain": [
       "                 browser             OS   device  new  quality  duration  \\\n",
       "0                 Chrome          Linux  desktop    1     75.0     698.0   \n",
       "1                 Safari            iOS   tablet    0      1.0       0.0   \n",
       "2                 Chrome        Windows  desktop    1      1.0      33.0   \n",
       "3                 Chrome        Android   mobile    1      1.0      76.0   \n",
       "4      Internet Explorer  Windows Phone   mobile    1      2.0     372.0   \n",
       "...                  ...            ...      ...  ...      ...       ...   \n",
       "79781  Internet Explorer        Windows   tablet    1      1.0       0.0   \n",
       "79782             Chrome      Macintosh  desktop    1      1.0       0.0   \n",
       "79783             Safari      Macintosh  desktop    1      1.0      22.0   \n",
       "79784             Safari            iOS   mobile    1      1.0     135.0   \n",
       "79785             Chrome        Android   mobile    1      1.0       0.0   \n",
       "\n",
       "       bounced  transaction  transaction_revenue continent      subcontinent  \\\n",
       "0            0          0.0                  0.0  Americas  Northern America   \n",
       "1            1          0.0                  0.0  Americas  Northern America   \n",
       "2            0          0.0                  0.0      Asia     Southern Asia   \n",
       "3            0          0.0                  0.0  Americas  Northern America   \n",
       "4            0          0.0                  0.0      Asia     Southern Asia   \n",
       "...        ...          ...                  ...       ...               ...   \n",
       "79781        1          0.0                  0.0  Americas  Northern America   \n",
       "79782        1          0.0                  0.0  Americas  Northern America   \n",
       "79783        0          0.0                  0.0   Oceania       Australasia   \n",
       "79784        0          0.0                  0.0  Americas  Northern America   \n",
       "79785        1          0.0                  0.0    Europe   Southern Europe   \n",
       "\n",
       "             country      traffic_source traffic_medium    keyword  \\\n",
       "0      United States            (direct)         (none)        NaN   \n",
       "1      United States              google        organic  Category8   \n",
       "2              India         youtube.com       referral        NaN   \n",
       "3      United States              google        organic  Category8   \n",
       "4              India         youtube.com       referral        NaN   \n",
       "...              ...                 ...            ...        ...   \n",
       "79781  United States  search.xfinity.com       referral        NaN   \n",
       "79782  United States              google        organic  Category8   \n",
       "79783      Australia              google        organic  Category8   \n",
       "79784  United States              google        organic  Category8   \n",
       "79785          Italy              google        organic  Category8   \n",
       "\n",
       "              referral_path  \n",
       "0                 Category1  \n",
       "1                       NaN  \n",
       "2       Category2_Path_0082  \n",
       "3                       NaN  \n",
       "4      Category11_Path_0088  \n",
       "...                     ...  \n",
       "79781             Category1  \n",
       "79782                   NaN  \n",
       "79783                   NaN  \n",
       "79784                   NaN  \n",
       "79785                   NaN  \n",
       "\n",
       "[79786 rows x 16 columns]"
      ]
     },
     "execution_count": 327,
     "metadata": {},
     "output_type": "execute_result"
    }
   ],
   "source": [
    "test_data = test_data.drop(columns=['sessionID','userID'],axis=1)\n",
    "test_data"
   ]
  },
  {
   "cell_type": "code",
   "execution_count": 328,
   "id": "2ef4796e-83ac-4c97-a58e-6adc9130cfcc",
   "metadata": {},
   "outputs": [],
   "source": [
    "## 연속형 데이터로 모델 학습\n",
    "test_data = test_data.select_dtypes(exclude='object')\n",
    "\n",
    "## 데이터 스케일링 적용\n",
    "test_data_scale = scale_data(test_data, 'minmax')"
   ]
  },
  {
   "cell_type": "code",
   "execution_count": 329,
   "id": "cc019ffe-172b-4862-af44-2676029e9022",
   "metadata": {},
   "outputs": [],
   "source": [
    "preds = rf_model.predict(test_data_scale)"
   ]
  },
  {
   "cell_type": "markdown",
   "id": "e9fe3caa-850a-4951-940a-04144d98b7bf",
   "metadata": {},
   "source": [
    "#### Submission"
   ]
  },
  {
   "cell_type": "code",
   "execution_count": 330,
   "id": "c5f71bd3-be41-475b-9f93-d71ab1a068fe",
   "metadata": {},
   "outputs": [
    {
     "data": {
      "text/html": [
       "<div>\n",
       "<style scoped>\n",
       "    .dataframe tbody tr th:only-of-type {\n",
       "        vertical-align: middle;\n",
       "    }\n",
       "\n",
       "    .dataframe tbody tr th {\n",
       "        vertical-align: top;\n",
       "    }\n",
       "\n",
       "    .dataframe thead th {\n",
       "        text-align: right;\n",
       "    }\n",
       "</style>\n",
       "<table border=\"1\" class=\"dataframe\">\n",
       "  <thead>\n",
       "    <tr style=\"text-align: right;\">\n",
       "      <th></th>\n",
       "      <th>sessionID</th>\n",
       "      <th>TARGET</th>\n",
       "    </tr>\n",
       "  </thead>\n",
       "  <tbody>\n",
       "    <tr>\n",
       "      <th>0</th>\n",
       "      <td>SESSION_252289</td>\n",
       "      <td>0</td>\n",
       "    </tr>\n",
       "    <tr>\n",
       "      <th>1</th>\n",
       "      <td>SESSION_252290</td>\n",
       "      <td>0</td>\n",
       "    </tr>\n",
       "    <tr>\n",
       "      <th>2</th>\n",
       "      <td>SESSION_252291</td>\n",
       "      <td>0</td>\n",
       "    </tr>\n",
       "    <tr>\n",
       "      <th>3</th>\n",
       "      <td>SESSION_252292</td>\n",
       "      <td>0</td>\n",
       "    </tr>\n",
       "    <tr>\n",
       "      <th>4</th>\n",
       "      <td>SESSION_252293</td>\n",
       "      <td>0</td>\n",
       "    </tr>\n",
       "    <tr>\n",
       "      <th>...</th>\n",
       "      <td>...</td>\n",
       "      <td>...</td>\n",
       "    </tr>\n",
       "    <tr>\n",
       "      <th>79781</th>\n",
       "      <td>SESSION_332070</td>\n",
       "      <td>0</td>\n",
       "    </tr>\n",
       "    <tr>\n",
       "      <th>79782</th>\n",
       "      <td>SESSION_332071</td>\n",
       "      <td>0</td>\n",
       "    </tr>\n",
       "    <tr>\n",
       "      <th>79783</th>\n",
       "      <td>SESSION_332072</td>\n",
       "      <td>0</td>\n",
       "    </tr>\n",
       "    <tr>\n",
       "      <th>79784</th>\n",
       "      <td>SESSION_332073</td>\n",
       "      <td>0</td>\n",
       "    </tr>\n",
       "    <tr>\n",
       "      <th>79785</th>\n",
       "      <td>SESSION_332074</td>\n",
       "      <td>0</td>\n",
       "    </tr>\n",
       "  </tbody>\n",
       "</table>\n",
       "<p>79786 rows × 2 columns</p>\n",
       "</div>"
      ],
      "text/plain": [
       "            sessionID  TARGET\n",
       "0      SESSION_252289       0\n",
       "1      SESSION_252290       0\n",
       "2      SESSION_252291       0\n",
       "3      SESSION_252292       0\n",
       "4      SESSION_252293       0\n",
       "...               ...     ...\n",
       "79781  SESSION_332070       0\n",
       "79782  SESSION_332071       0\n",
       "79783  SESSION_332072       0\n",
       "79784  SESSION_332073       0\n",
       "79785  SESSION_332074       0\n",
       "\n",
       "[79786 rows x 2 columns]"
      ]
     },
     "execution_count": 330,
     "metadata": {},
     "output_type": "execute_result"
    }
   ],
   "source": [
    "submission = pd.read_csv('D:/3차프로젝트/Weblog_Data/sample_submission.csv')\n",
    "submission"
   ]
  },
  {
   "cell_type": "code",
   "execution_count": 331,
   "id": "b500eac7-9929-4dab-a6bc-ed6d3f317a68",
   "metadata": {},
   "outputs": [
    {
     "data": {
      "text/html": [
       "<div>\n",
       "<style scoped>\n",
       "    .dataframe tbody tr th:only-of-type {\n",
       "        vertical-align: middle;\n",
       "    }\n",
       "\n",
       "    .dataframe tbody tr th {\n",
       "        vertical-align: top;\n",
       "    }\n",
       "\n",
       "    .dataframe thead th {\n",
       "        text-align: right;\n",
       "    }\n",
       "</style>\n",
       "<table border=\"1\" class=\"dataframe\">\n",
       "  <thead>\n",
       "    <tr style=\"text-align: right;\">\n",
       "      <th></th>\n",
       "      <th>sessionID</th>\n",
       "      <th>TARGET</th>\n",
       "    </tr>\n",
       "  </thead>\n",
       "  <tbody>\n",
       "    <tr>\n",
       "      <th>0</th>\n",
       "      <td>SESSION_252289</td>\n",
       "      <td>23.070440</td>\n",
       "    </tr>\n",
       "    <tr>\n",
       "      <th>1</th>\n",
       "      <td>SESSION_252290</td>\n",
       "      <td>1.000000</td>\n",
       "    </tr>\n",
       "    <tr>\n",
       "      <th>2</th>\n",
       "      <td>SESSION_252291</td>\n",
       "      <td>3.174950</td>\n",
       "    </tr>\n",
       "    <tr>\n",
       "      <th>3</th>\n",
       "      <td>SESSION_252292</td>\n",
       "      <td>4.579014</td>\n",
       "    </tr>\n",
       "    <tr>\n",
       "      <th>4</th>\n",
       "      <td>SESSION_252293</td>\n",
       "      <td>7.013856</td>\n",
       "    </tr>\n",
       "    <tr>\n",
       "      <th>...</th>\n",
       "      <td>...</td>\n",
       "      <td>...</td>\n",
       "    </tr>\n",
       "    <tr>\n",
       "      <th>79781</th>\n",
       "      <td>SESSION_332070</td>\n",
       "      <td>1.000000</td>\n",
       "    </tr>\n",
       "    <tr>\n",
       "      <th>79782</th>\n",
       "      <td>SESSION_332071</td>\n",
       "      <td>1.000000</td>\n",
       "    </tr>\n",
       "    <tr>\n",
       "      <th>79783</th>\n",
       "      <td>SESSION_332072</td>\n",
       "      <td>2.705314</td>\n",
       "    </tr>\n",
       "    <tr>\n",
       "      <th>79784</th>\n",
       "      <td>SESSION_332073</td>\n",
       "      <td>5.039081</td>\n",
       "    </tr>\n",
       "    <tr>\n",
       "      <th>79785</th>\n",
       "      <td>SESSION_332074</td>\n",
       "      <td>1.000000</td>\n",
       "    </tr>\n",
       "  </tbody>\n",
       "</table>\n",
       "<p>79786 rows × 2 columns</p>\n",
       "</div>"
      ],
      "text/plain": [
       "            sessionID     TARGET\n",
       "0      SESSION_252289  23.070440\n",
       "1      SESSION_252290   1.000000\n",
       "2      SESSION_252291   3.174950\n",
       "3      SESSION_252292   4.579014\n",
       "4      SESSION_252293   7.013856\n",
       "...               ...        ...\n",
       "79781  SESSION_332070   1.000000\n",
       "79782  SESSION_332071   1.000000\n",
       "79783  SESSION_332072   2.705314\n",
       "79784  SESSION_332073   5.039081\n",
       "79785  SESSION_332074   1.000000\n",
       "\n",
       "[79786 rows x 2 columns]"
      ]
     },
     "execution_count": 331,
     "metadata": {},
     "output_type": "execute_result"
    }
   ],
   "source": [
    "submission['TARGET'] = preds\n",
    "submission"
   ]
  },
  {
   "cell_type": "code",
   "execution_count": 332,
   "id": "b357a82c-ffd1-4551-892e-282be2ae386a",
   "metadata": {},
   "outputs": [],
   "source": [
    "submission.to_csv('./rf_model_submission.csv', index=False)"
   ]
  },
  {
   "cell_type": "markdown",
   "id": "a06f1052-479e-4886-955c-179cd8ae7038",
   "metadata": {},
   "source": [
    "### LinearRegression 모델 생성"
   ]
  },
  {
   "cell_type": "code",
   "execution_count": 286,
   "id": "520841e7-192f-4214-9fa5-e6bf4383db78",
   "metadata": {},
   "outputs": [],
   "source": [
    "from sklearn.linear_model import LinearRegression\n",
    "from sklearn.linear_model import Ridge"
   ]
  },
  {
   "cell_type": "markdown",
   "id": "d9d422d1-c943-449f-acd7-0c0c4c33e4d6",
   "metadata": {
    "jp-MarkdownHeadingCollapsed": true
   },
   "source": [
    "#### 모델 학습"
   ]
  },
  {
   "cell_type": "code",
   "execution_count": 287,
   "id": "aa29920e-fafd-4adf-befb-81d8303b1627",
   "metadata": {},
   "outputs": [
    {
     "name": "stdout",
     "output_type": "stream",
     "text": [
      "가중치(계수, 기울기 파라미터 W) : [ 0.6911638  20.03720965 59.48983856 -2.78850778 22.16863428 13.16450617]\n",
      "편향(절편 파라미터 b) : 3.249948548072437\n",
      "훈련세트 점수: 0.57\n",
      "검증세트 점수: 0.59\n"
     ]
    }
   ],
   "source": [
    "model = LinearRegression()\n",
    "model.fit(x_train, y_train)\n",
    "\n",
    "print(\"가중치(계수, 기울기 파라미터 W) :\", model.coef_)\n",
    "print(\"편향(절편 파라미터 b) :\", model.intercept_)\n",
    "\n",
    "print(\"훈련세트 점수: {:.2f}\".format(model.score(x_train, y_train)))\n",
    "print(\"검증세트 점수: {:.2f}\".format(model.score(x_valid, y_valid)))"
   ]
  },
  {
   "cell_type": "code",
   "execution_count": 289,
   "id": "ae0a062a-4764-4a0a-93d9-bd69fa05d6a0",
   "metadata": {},
   "outputs": [
    {
     "name": "stdout",
     "output_type": "stream",
     "text": [
      "가중치(계수, 기울기 파라미터 W) : [ 0.69117516 20.08879311 59.27578727 -2.79121151 21.37861057 12.75294049]\n",
      "편향(절편 파라미터 b) : 3.252649634641273\n",
      "훈련 세트 점수: 0.57\n",
      "검증 세트 점수: 0.59\n"
     ]
    }
   ],
   "source": [
    "model2 = Ridge(alpha=.5)\n",
    "model2.fit(x_train, y_train)\n",
    "\n",
    "print(\"가중치(계수, 기울기 파라미터 W) :\", model2.coef_)\n",
    "print(\"편향(절편 파라미터 b) :\", model2.intercept_)\n",
    "\n",
    "print(\"훈련 세트 점수: {:.2f}\".format(model2.score(x_train, y_train)))\n",
    "print(\"검증 세트 점수: {:.2f}\".format(model2.score(x_valid, y_valid)))"
   ]
  },
  {
   "cell_type": "markdown",
   "id": "51c4e547-0575-46ad-a83a-1e633f23d746",
   "metadata": {
    "jp-MarkdownHeadingCollapsed": true
   },
   "source": [
    "#### 모델 성능 평가"
   ]
  },
  {
   "cell_type": "code",
   "execution_count": 290,
   "id": "4567443b-dc91-44d4-9631-080d83f287b4",
   "metadata": {},
   "outputs": [
    {
     "name": "stdout",
     "output_type": "stream",
     "text": [
      "훈련 세트 RMSE: 3.63\n",
      "검증 세트 RMSE: 3.39\n"
     ]
    }
   ],
   "source": [
    "from sklearn.metrics import mean_squared_error\n",
    "\n",
    "# 훈련 세트의 예측값 계산\n",
    "y_train_pred = model.predict(x_train)\n",
    "\n",
    "# 검증 세트의 예측값 계산\n",
    "y_valid_pred = model.predict(x_valid)\n",
    "\n",
    "# RMSE 계산\n",
    "train_rmse = np.sqrt(mean_squared_error(y_train, y_train_pred))\n",
    "valid_rmse = np.sqrt(mean_squared_error(y_valid, y_valid_pred))\n",
    "\n",
    "print(\"훈련 세트 RMSE: {:.2f}\".format(train_rmse))\n",
    "print(\"검증 세트 RMSE: {:.2f}\".format(valid_rmse))"
   ]
  },
  {
   "cell_type": "code",
   "execution_count": 291,
   "id": "47270fdc-19dc-4d31-93e4-fede992953c8",
   "metadata": {},
   "outputs": [
    {
     "name": "stdout",
     "output_type": "stream",
     "text": [
      "훈련 세트 RMSE: 3.63\n",
      "검증 세트 RMSE: 3.39\n"
     ]
    }
   ],
   "source": [
    "# 훈련 세트의 예측값 계산\n",
    "y_train_pred = model2.predict(x_train)\n",
    "\n",
    "# 검증 세트의 예측값 계산\n",
    "y_valid_pred = model2.predict(x_valid)\n",
    "\n",
    "# RMSE 계산\n",
    "train_rmse = np.sqrt(mean_squared_error(y_train, y_train_pred))\n",
    "valid_rmse = np.sqrt(mean_squared_error(y_valid, y_valid_pred))\n",
    "\n",
    "print(\"훈련 세트 RMSE: {:.2f}\".format(train_rmse))\n",
    "print(\"검증 세트 RMSE: {:.2f}\".format(valid_rmse))"
   ]
  },
  {
   "cell_type": "markdown",
   "id": "4e1b210c-df67-4e2d-bea8-104c66420c75",
   "metadata": {
    "jp-MarkdownHeadingCollapsed": true
   },
   "source": [
    "#### 모델 예측"
   ]
  },
  {
   "cell_type": "code",
   "execution_count": 279,
   "id": "3110f51d-d652-45ec-9b69-388d33d3f95f",
   "metadata": {},
   "outputs": [
    {
     "data": {
      "text/html": [
       "<div>\n",
       "<style scoped>\n",
       "    .dataframe tbody tr th:only-of-type {\n",
       "        vertical-align: middle;\n",
       "    }\n",
       "\n",
       "    .dataframe tbody tr th {\n",
       "        vertical-align: top;\n",
       "    }\n",
       "\n",
       "    .dataframe thead th {\n",
       "        text-align: right;\n",
       "    }\n",
       "</style>\n",
       "<table border=\"1\" class=\"dataframe\">\n",
       "  <thead>\n",
       "    <tr style=\"text-align: right;\">\n",
       "      <th></th>\n",
       "      <th>browser</th>\n",
       "      <th>OS</th>\n",
       "      <th>device</th>\n",
       "      <th>new</th>\n",
       "      <th>quality</th>\n",
       "      <th>duration</th>\n",
       "      <th>bounced</th>\n",
       "      <th>transaction</th>\n",
       "      <th>transaction_revenue</th>\n",
       "      <th>continent</th>\n",
       "      <th>subcontinent</th>\n",
       "      <th>country</th>\n",
       "      <th>traffic_source</th>\n",
       "      <th>traffic_medium</th>\n",
       "      <th>keyword</th>\n",
       "      <th>referral_path</th>\n",
       "    </tr>\n",
       "  </thead>\n",
       "  <tbody>\n",
       "    <tr>\n",
       "      <th>0</th>\n",
       "      <td>Chrome</td>\n",
       "      <td>Linux</td>\n",
       "      <td>desktop</td>\n",
       "      <td>1</td>\n",
       "      <td>75.0</td>\n",
       "      <td>698.0</td>\n",
       "      <td>0</td>\n",
       "      <td>0.0</td>\n",
       "      <td>0.0</td>\n",
       "      <td>Americas</td>\n",
       "      <td>Northern America</td>\n",
       "      <td>United States</td>\n",
       "      <td>(direct)</td>\n",
       "      <td>(none)</td>\n",
       "      <td>NaN</td>\n",
       "      <td>Category1</td>\n",
       "    </tr>\n",
       "    <tr>\n",
       "      <th>1</th>\n",
       "      <td>Safari</td>\n",
       "      <td>iOS</td>\n",
       "      <td>tablet</td>\n",
       "      <td>0</td>\n",
       "      <td>1.0</td>\n",
       "      <td>0.0</td>\n",
       "      <td>1</td>\n",
       "      <td>0.0</td>\n",
       "      <td>0.0</td>\n",
       "      <td>Americas</td>\n",
       "      <td>Northern America</td>\n",
       "      <td>United States</td>\n",
       "      <td>google</td>\n",
       "      <td>organic</td>\n",
       "      <td>Category8</td>\n",
       "      <td>NaN</td>\n",
       "    </tr>\n",
       "    <tr>\n",
       "      <th>2</th>\n",
       "      <td>Chrome</td>\n",
       "      <td>Windows</td>\n",
       "      <td>desktop</td>\n",
       "      <td>1</td>\n",
       "      <td>1.0</td>\n",
       "      <td>33.0</td>\n",
       "      <td>0</td>\n",
       "      <td>0.0</td>\n",
       "      <td>0.0</td>\n",
       "      <td>Asia</td>\n",
       "      <td>Southern Asia</td>\n",
       "      <td>India</td>\n",
       "      <td>youtube.com</td>\n",
       "      <td>referral</td>\n",
       "      <td>NaN</td>\n",
       "      <td>Category2_Path_0082</td>\n",
       "    </tr>\n",
       "    <tr>\n",
       "      <th>3</th>\n",
       "      <td>Chrome</td>\n",
       "      <td>Android</td>\n",
       "      <td>mobile</td>\n",
       "      <td>1</td>\n",
       "      <td>1.0</td>\n",
       "      <td>76.0</td>\n",
       "      <td>0</td>\n",
       "      <td>0.0</td>\n",
       "      <td>0.0</td>\n",
       "      <td>Americas</td>\n",
       "      <td>Northern America</td>\n",
       "      <td>United States</td>\n",
       "      <td>google</td>\n",
       "      <td>organic</td>\n",
       "      <td>Category8</td>\n",
       "      <td>NaN</td>\n",
       "    </tr>\n",
       "    <tr>\n",
       "      <th>4</th>\n",
       "      <td>Internet Explorer</td>\n",
       "      <td>Windows Phone</td>\n",
       "      <td>mobile</td>\n",
       "      <td>1</td>\n",
       "      <td>2.0</td>\n",
       "      <td>372.0</td>\n",
       "      <td>0</td>\n",
       "      <td>0.0</td>\n",
       "      <td>0.0</td>\n",
       "      <td>Asia</td>\n",
       "      <td>Southern Asia</td>\n",
       "      <td>India</td>\n",
       "      <td>youtube.com</td>\n",
       "      <td>referral</td>\n",
       "      <td>NaN</td>\n",
       "      <td>Category11_Path_0088</td>\n",
       "    </tr>\n",
       "    <tr>\n",
       "      <th>...</th>\n",
       "      <td>...</td>\n",
       "      <td>...</td>\n",
       "      <td>...</td>\n",
       "      <td>...</td>\n",
       "      <td>...</td>\n",
       "      <td>...</td>\n",
       "      <td>...</td>\n",
       "      <td>...</td>\n",
       "      <td>...</td>\n",
       "      <td>...</td>\n",
       "      <td>...</td>\n",
       "      <td>...</td>\n",
       "      <td>...</td>\n",
       "      <td>...</td>\n",
       "      <td>...</td>\n",
       "      <td>...</td>\n",
       "    </tr>\n",
       "    <tr>\n",
       "      <th>79781</th>\n",
       "      <td>Internet Explorer</td>\n",
       "      <td>Windows</td>\n",
       "      <td>tablet</td>\n",
       "      <td>1</td>\n",
       "      <td>1.0</td>\n",
       "      <td>0.0</td>\n",
       "      <td>1</td>\n",
       "      <td>0.0</td>\n",
       "      <td>0.0</td>\n",
       "      <td>Americas</td>\n",
       "      <td>Northern America</td>\n",
       "      <td>United States</td>\n",
       "      <td>search.xfinity.com</td>\n",
       "      <td>referral</td>\n",
       "      <td>NaN</td>\n",
       "      <td>Category1</td>\n",
       "    </tr>\n",
       "    <tr>\n",
       "      <th>79782</th>\n",
       "      <td>Chrome</td>\n",
       "      <td>Macintosh</td>\n",
       "      <td>desktop</td>\n",
       "      <td>1</td>\n",
       "      <td>1.0</td>\n",
       "      <td>0.0</td>\n",
       "      <td>1</td>\n",
       "      <td>0.0</td>\n",
       "      <td>0.0</td>\n",
       "      <td>Americas</td>\n",
       "      <td>Northern America</td>\n",
       "      <td>United States</td>\n",
       "      <td>google</td>\n",
       "      <td>organic</td>\n",
       "      <td>Category8</td>\n",
       "      <td>NaN</td>\n",
       "    </tr>\n",
       "    <tr>\n",
       "      <th>79783</th>\n",
       "      <td>Safari</td>\n",
       "      <td>Macintosh</td>\n",
       "      <td>desktop</td>\n",
       "      <td>1</td>\n",
       "      <td>1.0</td>\n",
       "      <td>22.0</td>\n",
       "      <td>0</td>\n",
       "      <td>0.0</td>\n",
       "      <td>0.0</td>\n",
       "      <td>Oceania</td>\n",
       "      <td>Australasia</td>\n",
       "      <td>Australia</td>\n",
       "      <td>google</td>\n",
       "      <td>organic</td>\n",
       "      <td>Category8</td>\n",
       "      <td>NaN</td>\n",
       "    </tr>\n",
       "    <tr>\n",
       "      <th>79784</th>\n",
       "      <td>Safari</td>\n",
       "      <td>iOS</td>\n",
       "      <td>mobile</td>\n",
       "      <td>1</td>\n",
       "      <td>1.0</td>\n",
       "      <td>135.0</td>\n",
       "      <td>0</td>\n",
       "      <td>0.0</td>\n",
       "      <td>0.0</td>\n",
       "      <td>Americas</td>\n",
       "      <td>Northern America</td>\n",
       "      <td>United States</td>\n",
       "      <td>google</td>\n",
       "      <td>organic</td>\n",
       "      <td>Category8</td>\n",
       "      <td>NaN</td>\n",
       "    </tr>\n",
       "    <tr>\n",
       "      <th>79785</th>\n",
       "      <td>Chrome</td>\n",
       "      <td>Android</td>\n",
       "      <td>mobile</td>\n",
       "      <td>1</td>\n",
       "      <td>1.0</td>\n",
       "      <td>0.0</td>\n",
       "      <td>1</td>\n",
       "      <td>0.0</td>\n",
       "      <td>0.0</td>\n",
       "      <td>Europe</td>\n",
       "      <td>Southern Europe</td>\n",
       "      <td>Italy</td>\n",
       "      <td>google</td>\n",
       "      <td>organic</td>\n",
       "      <td>Category8</td>\n",
       "      <td>NaN</td>\n",
       "    </tr>\n",
       "  </tbody>\n",
       "</table>\n",
       "<p>79786 rows × 16 columns</p>\n",
       "</div>"
      ],
      "text/plain": [
       "                 browser             OS   device  new  quality  duration  \\\n",
       "0                 Chrome          Linux  desktop    1     75.0     698.0   \n",
       "1                 Safari            iOS   tablet    0      1.0       0.0   \n",
       "2                 Chrome        Windows  desktop    1      1.0      33.0   \n",
       "3                 Chrome        Android   mobile    1      1.0      76.0   \n",
       "4      Internet Explorer  Windows Phone   mobile    1      2.0     372.0   \n",
       "...                  ...            ...      ...  ...      ...       ...   \n",
       "79781  Internet Explorer        Windows   tablet    1      1.0       0.0   \n",
       "79782             Chrome      Macintosh  desktop    1      1.0       0.0   \n",
       "79783             Safari      Macintosh  desktop    1      1.0      22.0   \n",
       "79784             Safari            iOS   mobile    1      1.0     135.0   \n",
       "79785             Chrome        Android   mobile    1      1.0       0.0   \n",
       "\n",
       "       bounced  transaction  transaction_revenue continent      subcontinent  \\\n",
       "0            0          0.0                  0.0  Americas  Northern America   \n",
       "1            1          0.0                  0.0  Americas  Northern America   \n",
       "2            0          0.0                  0.0      Asia     Southern Asia   \n",
       "3            0          0.0                  0.0  Americas  Northern America   \n",
       "4            0          0.0                  0.0      Asia     Southern Asia   \n",
       "...        ...          ...                  ...       ...               ...   \n",
       "79781        1          0.0                  0.0  Americas  Northern America   \n",
       "79782        1          0.0                  0.0  Americas  Northern America   \n",
       "79783        0          0.0                  0.0   Oceania       Australasia   \n",
       "79784        0          0.0                  0.0  Americas  Northern America   \n",
       "79785        1          0.0                  0.0    Europe   Southern Europe   \n",
       "\n",
       "             country      traffic_source traffic_medium    keyword  \\\n",
       "0      United States            (direct)         (none)        NaN   \n",
       "1      United States              google        organic  Category8   \n",
       "2              India         youtube.com       referral        NaN   \n",
       "3      United States              google        organic  Category8   \n",
       "4              India         youtube.com       referral        NaN   \n",
       "...              ...                 ...            ...        ...   \n",
       "79781  United States  search.xfinity.com       referral        NaN   \n",
       "79782  United States              google        organic  Category8   \n",
       "79783      Australia              google        organic  Category8   \n",
       "79784  United States              google        organic  Category8   \n",
       "79785          Italy              google        organic  Category8   \n",
       "\n",
       "              referral_path  \n",
       "0                 Category1  \n",
       "1                       NaN  \n",
       "2       Category2_Path_0082  \n",
       "3                       NaN  \n",
       "4      Category11_Path_0088  \n",
       "...                     ...  \n",
       "79781             Category1  \n",
       "79782                   NaN  \n",
       "79783                   NaN  \n",
       "79784                   NaN  \n",
       "79785                   NaN  \n",
       "\n",
       "[79786 rows x 16 columns]"
      ]
     },
     "execution_count": 279,
     "metadata": {},
     "output_type": "execute_result"
    }
   ],
   "source": [
    "test_data = test_data.drop(columns=['sessionID','userID'],axis=1)\n",
    "test_data"
   ]
  },
  {
   "cell_type": "code",
   "execution_count": 280,
   "id": "17d8c0c3-23f6-4fb2-b309-16e869706e08",
   "metadata": {},
   "outputs": [],
   "source": [
    "## 연속형 데이터로 모델 학습\n",
    "test_data = test_data.select_dtypes(exclude='object')\n",
    "\n",
    "## 데이터 스케일링 적용\n",
    "test_data_scale = scale_data(test_data, 'minmax')"
   ]
  },
  {
   "cell_type": "code",
   "execution_count": 282,
   "id": "a735cd42-b660-4f4d-8bfe-288b65f7e819",
   "metadata": {},
   "outputs": [],
   "source": [
    "preds = model.predict(test_data_scale)"
   ]
  },
  {
   "cell_type": "markdown",
   "id": "6a5e9c58-9d55-4bb5-8ef5-ce5d9ff2f3cb",
   "metadata": {
    "jp-MarkdownHeadingCollapsed": true
   },
   "source": [
    "#### Submission"
   ]
  },
  {
   "cell_type": "code",
   "execution_count": 276,
   "id": "44dd3640-1cb1-4776-a153-7ff02e229b46",
   "metadata": {},
   "outputs": [
    {
     "data": {
      "text/html": [
       "<div>\n",
       "<style scoped>\n",
       "    .dataframe tbody tr th:only-of-type {\n",
       "        vertical-align: middle;\n",
       "    }\n",
       "\n",
       "    .dataframe tbody tr th {\n",
       "        vertical-align: top;\n",
       "    }\n",
       "\n",
       "    .dataframe thead th {\n",
       "        text-align: right;\n",
       "    }\n",
       "</style>\n",
       "<table border=\"1\" class=\"dataframe\">\n",
       "  <thead>\n",
       "    <tr style=\"text-align: right;\">\n",
       "      <th></th>\n",
       "      <th>sessionID</th>\n",
       "      <th>TARGET</th>\n",
       "    </tr>\n",
       "  </thead>\n",
       "  <tbody>\n",
       "    <tr>\n",
       "      <th>0</th>\n",
       "      <td>SESSION_252289</td>\n",
       "      <td>0</td>\n",
       "    </tr>\n",
       "    <tr>\n",
       "      <th>1</th>\n",
       "      <td>SESSION_252290</td>\n",
       "      <td>0</td>\n",
       "    </tr>\n",
       "    <tr>\n",
       "      <th>2</th>\n",
       "      <td>SESSION_252291</td>\n",
       "      <td>0</td>\n",
       "    </tr>\n",
       "    <tr>\n",
       "      <th>3</th>\n",
       "      <td>SESSION_252292</td>\n",
       "      <td>0</td>\n",
       "    </tr>\n",
       "    <tr>\n",
       "      <th>4</th>\n",
       "      <td>SESSION_252293</td>\n",
       "      <td>0</td>\n",
       "    </tr>\n",
       "    <tr>\n",
       "      <th>...</th>\n",
       "      <td>...</td>\n",
       "      <td>...</td>\n",
       "    </tr>\n",
       "    <tr>\n",
       "      <th>79781</th>\n",
       "      <td>SESSION_332070</td>\n",
       "      <td>0</td>\n",
       "    </tr>\n",
       "    <tr>\n",
       "      <th>79782</th>\n",
       "      <td>SESSION_332071</td>\n",
       "      <td>0</td>\n",
       "    </tr>\n",
       "    <tr>\n",
       "      <th>79783</th>\n",
       "      <td>SESSION_332072</td>\n",
       "      <td>0</td>\n",
       "    </tr>\n",
       "    <tr>\n",
       "      <th>79784</th>\n",
       "      <td>SESSION_332073</td>\n",
       "      <td>0</td>\n",
       "    </tr>\n",
       "    <tr>\n",
       "      <th>79785</th>\n",
       "      <td>SESSION_332074</td>\n",
       "      <td>0</td>\n",
       "    </tr>\n",
       "  </tbody>\n",
       "</table>\n",
       "<p>79786 rows × 2 columns</p>\n",
       "</div>"
      ],
      "text/plain": [
       "            sessionID  TARGET\n",
       "0      SESSION_252289       0\n",
       "1      SESSION_252290       0\n",
       "2      SESSION_252291       0\n",
       "3      SESSION_252292       0\n",
       "4      SESSION_252293       0\n",
       "...               ...     ...\n",
       "79781  SESSION_332070       0\n",
       "79782  SESSION_332071       0\n",
       "79783  SESSION_332072       0\n",
       "79784  SESSION_332073       0\n",
       "79785  SESSION_332074       0\n",
       "\n",
       "[79786 rows x 2 columns]"
      ]
     },
     "execution_count": 276,
     "metadata": {},
     "output_type": "execute_result"
    }
   ],
   "source": [
    "submission = pd.read_csv('D:/3차프로젝트/Weblog_Data/sample_submission.csv')\n",
    "submission"
   ]
  },
  {
   "cell_type": "code",
   "execution_count": 283,
   "id": "69238f72-957a-42a2-a090-6af76168438a",
   "metadata": {},
   "outputs": [
    {
     "data": {
      "text/html": [
       "<div>\n",
       "<style scoped>\n",
       "    .dataframe tbody tr th:only-of-type {\n",
       "        vertical-align: middle;\n",
       "    }\n",
       "\n",
       "    .dataframe tbody tr th {\n",
       "        vertical-align: top;\n",
       "    }\n",
       "\n",
       "    .dataframe thead th {\n",
       "        text-align: right;\n",
       "    }\n",
       "</style>\n",
       "<table border=\"1\" class=\"dataframe\">\n",
       "  <thead>\n",
       "    <tr style=\"text-align: right;\">\n",
       "      <th></th>\n",
       "      <th>sessionID</th>\n",
       "      <th>TARGET</th>\n",
       "    </tr>\n",
       "  </thead>\n",
       "  <tbody>\n",
       "    <tr>\n",
       "      <th>0</th>\n",
       "      <td>SESSION_252289</td>\n",
       "      <td>23.734731</td>\n",
       "    </tr>\n",
       "    <tr>\n",
       "      <th>1</th>\n",
       "      <td>SESSION_252290</td>\n",
       "      <td>0.461451</td>\n",
       "    </tr>\n",
       "    <tr>\n",
       "      <th>2</th>\n",
       "      <td>SESSION_252291</td>\n",
       "      <td>4.155770</td>\n",
       "    </tr>\n",
       "    <tr>\n",
       "      <th>3</th>\n",
       "      <td>SESSION_252292</td>\n",
       "      <td>4.428389</td>\n",
       "    </tr>\n",
       "    <tr>\n",
       "      <th>4</th>\n",
       "      <td>SESSION_252293</td>\n",
       "      <td>6.512627</td>\n",
       "    </tr>\n",
       "    <tr>\n",
       "      <th>...</th>\n",
       "      <td>...</td>\n",
       "      <td>...</td>\n",
       "    </tr>\n",
       "    <tr>\n",
       "      <th>79781</th>\n",
       "      <td>SESSION_332070</td>\n",
       "      <td>1.152618</td>\n",
       "    </tr>\n",
       "    <tr>\n",
       "      <th>79782</th>\n",
       "      <td>SESSION_332071</td>\n",
       "      <td>1.152618</td>\n",
       "    </tr>\n",
       "    <tr>\n",
       "      <th>79783</th>\n",
       "      <td>SESSION_332072</td>\n",
       "      <td>4.086030</td>\n",
       "    </tr>\n",
       "    <tr>\n",
       "      <th>79784</th>\n",
       "      <td>SESSION_332073</td>\n",
       "      <td>4.802447</td>\n",
       "    </tr>\n",
       "    <tr>\n",
       "      <th>79785</th>\n",
       "      <td>SESSION_332074</td>\n",
       "      <td>1.152618</td>\n",
       "    </tr>\n",
       "  </tbody>\n",
       "</table>\n",
       "<p>79786 rows × 2 columns</p>\n",
       "</div>"
      ],
      "text/plain": [
       "            sessionID     TARGET\n",
       "0      SESSION_252289  23.734731\n",
       "1      SESSION_252290   0.461451\n",
       "2      SESSION_252291   4.155770\n",
       "3      SESSION_252292   4.428389\n",
       "4      SESSION_252293   6.512627\n",
       "...               ...        ...\n",
       "79781  SESSION_332070   1.152618\n",
       "79782  SESSION_332071   1.152618\n",
       "79783  SESSION_332072   4.086030\n",
       "79784  SESSION_332073   4.802447\n",
       "79785  SESSION_332074   1.152618\n",
       "\n",
       "[79786 rows x 2 columns]"
      ]
     },
     "execution_count": 283,
     "metadata": {},
     "output_type": "execute_result"
    }
   ],
   "source": [
    "submission['TARGET'] = preds\n",
    "submission"
   ]
  },
  {
   "cell_type": "code",
   "execution_count": 284,
   "id": "2bb680ec-4af3-4ba1-a496-88130e2aaf20",
   "metadata": {},
   "outputs": [],
   "source": [
    "submission.to_csv('./baseline_submission.csv', index=False)"
   ]
  },
  {
   "cell_type": "markdown",
   "id": "4b09d8b4-68ed-426d-9df9-ad81865677ab",
   "metadata": {
    "jp-MarkdownHeadingCollapsed": true
   },
   "source": [
    "## 연습장"
   ]
  },
  {
   "cell_type": "code",
   "execution_count": null,
   "id": "620c21ab-0023-42ea-a62b-15aec4732a9b",
   "metadata": {},
   "outputs": [],
   "source": [
    "fav_subject = np.array(['math', 'math', 'english', 'science', 'english', 'science', \n",
    "                        'math', 'english', 'science', 'math', 'science', 'english'])\n",
    "club_list = np.array(['music', 'art', 'art', 'book', 'music', 'music', \n",
    "                      'art', 'book', 'book', 'music', 'art', 'book'])\n",
    "gender_list = np.array(['boy', 'girl', 'girl', 'boy', 'girl', 'girl',\n",
    "                       'boy', 'boy', 'boy', 'girl', 'girl', 'boy'])\n",
    "grade_list = np.array(['1', '3', '2', '2', '3', '2',\n",
    "                      '2', '1', '1', '3', '2', '3'])\n",
    "num_list = np.array(['123', '367764', '22', '2', '3', '1',\n",
    "                      '0', '112', '13213', '3246', '0', '634563'])\n",
    "student = ['S1', 'S2', 'S3', 'S4', 'S5', 'S6',\n",
    "          'S7', 'S8', 'S9', 'S10', 'S11', 'S12']\n",
    "\n",
    "grade_list = grade_list.astype(int)\n",
    "num_list = num_list.astype(int)\n",
    "\n",
    "data = pd.DataFrame({'student':student, \n",
    "                     'fav_subject':fav_subject, \n",
    "                     'club_list':club_list, \n",
    "                     'gender_list':gender_list,\n",
    "                     'grade_list':grade_list,\n",
    "                     'num_list':num_list})\n",
    "# data = data.set_index('student')\n",
    "data\n",
    "\n",
    "cost = []\n",
    "K = range(1, 7)\n",
    "for num in K:\n",
    "    kmode = KModes(n_clusters = num, n_init = 3)\n",
    "    kmode.fit_predict(data)\n",
    "    cost.append(kmode.cost_)\n",
    "\n",
    "plt.plot(K, cost, 'bx-')\n",
    "plt.xlabel('number of clusters')\n",
    "plt.ylabel('cost')\n",
    "plt.title('elbow method for finding optimal K')\n",
    "plt.show()\n",
    "kmode = KModes(n_clusters = 2, n_init = 3)\n",
    "clusters = kmode.fit_predict(data)\n",
    "data['clusters'] = clusters\n"
   ]
  },
  {
   "cell_type": "code",
   "execution_count": null,
   "id": "5dc06594-2172-443e-b5ac-3fcb2727d3f0",
   "metadata": {},
   "outputs": [],
   "source": [
    "from sklearn.preprocessing import PowerTransformer\n",
    "\n",
    "pt = PowerTransformer()\n",
    "num_data = data.select_dtypes(exclude=\"object\")\n",
    "transformed_data = pt.fit_transform(num_data)\n",
    "\n",
    "num_data_2 = pd.DataFrame(transformed_data,columns=num_data.columns)\n",
    "num_data_2"
   ]
  },
  {
   "cell_type": "code",
   "execution_count": null,
   "id": "89bed7df-3719-41d9-bc30-a40eb98c1970",
   "metadata": {},
   "outputs": [],
   "source": [
    "from scipy.stats import norm\n",
    "\n",
    "# 평균과 표준편차\n",
    "mean = np.mean(new_data.TARGET)\n",
    "std = np.std(new_data.TARGET)\n",
    "\n",
    "# 정규분포 확률밀도 함수\n",
    "x = np.linspace(min(new_data.TARGET), max(new_data.TARGET), 1000)\n",
    "y = norm.pdf(x, mean, std)\n",
    "\n",
    "plt.plot(x, y)\n",
    "\n",
    "plt.xlabel('Value')\n",
    "plt.ylabel('Probability Density')\n",
    "plt.title('Normal Distribution')\n",
    "plt.show()"
   ]
  }
 ],
 "metadata": {
  "kernelspec": {
   "display_name": "Python 3 (ipykernel)",
   "language": "python",
   "name": "python3"
  },
  "language_info": {
   "codemirror_mode": {
    "name": "ipython",
    "version": 3
   },
   "file_extension": ".py",
   "mimetype": "text/x-python",
   "name": "python",
   "nbconvert_exporter": "python",
   "pygments_lexer": "ipython3",
   "version": "3.11.5"
  }
 },
 "nbformat": 4,
 "nbformat_minor": 5
}
